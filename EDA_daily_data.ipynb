{
  "nbformat": 4,
  "nbformat_minor": 0,
  "metadata": {
    "colab": {
      "provenance": [],
      "authorship_tag": "ABX9TyOwWuFgdTew6kvGD1r+4fok",
      "include_colab_link": true
    },
    "kernelspec": {
      "name": "python3",
      "display_name": "Python 3"
    },
    "language_info": {
      "name": "python"
    }
  },
  "cells": [
    {
      "cell_type": "markdown",
      "metadata": {
        "id": "view-in-github",
        "colab_type": "text"
      },
      "source": [
        "<a href=\"https://colab.research.google.com/github/saimaayub/DS-project/blob/main/EDA_daily_data.ipynb\" target=\"_parent\"><img src=\"https://colab.research.google.com/assets/colab-badge.svg\" alt=\"Open In Colab\"/></a>"
      ]
    },
    {
      "cell_type": "code",
      "execution_count": 2,
      "metadata": {
        "id": "77B08MkCq3Iw",
        "colab": {
          "base_uri": "https://localhost:8080/"
        },
        "outputId": "4405c5c0-6789-492b-cc72-742306609ac2"
      },
      "outputs": [
        {
          "output_type": "stream",
          "name": "stdout",
          "text": [
            "Requirement already satisfied: pandas in /usr/local/lib/python3.10/dist-packages (2.0.3)\n",
            "Requirement already satisfied: python-dateutil>=2.8.2 in /usr/local/lib/python3.10/dist-packages (from pandas) (2.8.2)\n",
            "Requirement already satisfied: pytz>=2020.1 in /usr/local/lib/python3.10/dist-packages (from pandas) (2023.4)\n",
            "Requirement already satisfied: tzdata>=2022.1 in /usr/local/lib/python3.10/dist-packages (from pandas) (2024.1)\n",
            "Requirement already satisfied: numpy>=1.21.0 in /usr/local/lib/python3.10/dist-packages (from pandas) (1.25.2)\n",
            "Requirement already satisfied: six>=1.5 in /usr/local/lib/python3.10/dist-packages (from python-dateutil>=2.8.2->pandas) (1.16.0)\n"
          ]
        }
      ],
      "source": [
        "!pip install pandas"
      ]
    },
    {
      "cell_type": "code",
      "source": [
        "import pandas as pd\n",
        "import matplotlib.pyplot as plt\n",
        "import seaborn as sns\n",
        "import matplotlib.pyplot as plt"
      ],
      "metadata": {
        "id": "juhxXvu9rAIg"
      },
      "execution_count": 3,
      "outputs": []
    },
    {
      "cell_type": "code",
      "source": [
        "from google.colab import drive\n",
        "\n",
        "# Mount Google Drive\n",
        "drive.mount('/content/drive')"
      ],
      "metadata": {
        "id": "SV9YWWz9rAKC",
        "colab": {
          "base_uri": "https://localhost:8080/"
        },
        "outputId": "91a1c65a-175b-4819-a5e6-4aea630ddfe2"
      },
      "execution_count": 4,
      "outputs": [
        {
          "output_type": "stream",
          "name": "stdout",
          "text": [
            "Mounted at /content/drive\n"
          ]
        }
      ]
    },
    {
      "cell_type": "code",
      "source": [
        "#Calling the data\n",
        "file_path = '/content/drive/My Drive/LCL-June2015v2_0.csv'\n",
        "\n",
        "df = pd.read_csv(file_path)\n",
        "\n",
        "# Display the first few rows of the DataFrame\n",
        "df.head()"
      ],
      "metadata": {
        "id": "5I2GeIARrANX",
        "colab": {
          "base_uri": "https://localhost:8080/",
          "height": 206
        },
        "outputId": "9ea6dc44-5a6f-46a3-a8ab-8df2dc4fcac6"
      },
      "execution_count": 5,
      "outputs": [
        {
          "output_type": "execute_result",
          "data": {
            "text/plain": [
              "       LCLid stdorToU                     DateTime KWH/hh (per half hour) \n",
              "0  MAC000002      Std  2012-10-12 00:30:00.0000000                      0 \n",
              "1  MAC000002      Std  2012-10-12 01:00:00.0000000                      0 \n",
              "2  MAC000002      Std  2012-10-12 01:30:00.0000000                      0 \n",
              "3  MAC000002      Std  2012-10-12 02:00:00.0000000                      0 \n",
              "4  MAC000002      Std  2012-10-12 02:30:00.0000000                      0 "
            ],
            "text/html": [
              "\n",
              "  <div id=\"df-5c1fbf88-daa2-4912-84fc-97ee51f6d79b\" class=\"colab-df-container\">\n",
              "    <div>\n",
              "<style scoped>\n",
              "    .dataframe tbody tr th:only-of-type {\n",
              "        vertical-align: middle;\n",
              "    }\n",
              "\n",
              "    .dataframe tbody tr th {\n",
              "        vertical-align: top;\n",
              "    }\n",
              "\n",
              "    .dataframe thead th {\n",
              "        text-align: right;\n",
              "    }\n",
              "</style>\n",
              "<table border=\"1\" class=\"dataframe\">\n",
              "  <thead>\n",
              "    <tr style=\"text-align: right;\">\n",
              "      <th></th>\n",
              "      <th>LCLid</th>\n",
              "      <th>stdorToU</th>\n",
              "      <th>DateTime</th>\n",
              "      <th>KWH/hh (per half hour)</th>\n",
              "    </tr>\n",
              "  </thead>\n",
              "  <tbody>\n",
              "    <tr>\n",
              "      <th>0</th>\n",
              "      <td>MAC000002</td>\n",
              "      <td>Std</td>\n",
              "      <td>2012-10-12 00:30:00.0000000</td>\n",
              "      <td>0</td>\n",
              "    </tr>\n",
              "    <tr>\n",
              "      <th>1</th>\n",
              "      <td>MAC000002</td>\n",
              "      <td>Std</td>\n",
              "      <td>2012-10-12 01:00:00.0000000</td>\n",
              "      <td>0</td>\n",
              "    </tr>\n",
              "    <tr>\n",
              "      <th>2</th>\n",
              "      <td>MAC000002</td>\n",
              "      <td>Std</td>\n",
              "      <td>2012-10-12 01:30:00.0000000</td>\n",
              "      <td>0</td>\n",
              "    </tr>\n",
              "    <tr>\n",
              "      <th>3</th>\n",
              "      <td>MAC000002</td>\n",
              "      <td>Std</td>\n",
              "      <td>2012-10-12 02:00:00.0000000</td>\n",
              "      <td>0</td>\n",
              "    </tr>\n",
              "    <tr>\n",
              "      <th>4</th>\n",
              "      <td>MAC000002</td>\n",
              "      <td>Std</td>\n",
              "      <td>2012-10-12 02:30:00.0000000</td>\n",
              "      <td>0</td>\n",
              "    </tr>\n",
              "  </tbody>\n",
              "</table>\n",
              "</div>\n",
              "    <div class=\"colab-df-buttons\">\n",
              "\n",
              "  <div class=\"colab-df-container\">\n",
              "    <button class=\"colab-df-convert\" onclick=\"convertToInteractive('df-5c1fbf88-daa2-4912-84fc-97ee51f6d79b')\"\n",
              "            title=\"Convert this dataframe to an interactive table.\"\n",
              "            style=\"display:none;\">\n",
              "\n",
              "  <svg xmlns=\"http://www.w3.org/2000/svg\" height=\"24px\" viewBox=\"0 -960 960 960\">\n",
              "    <path d=\"M120-120v-720h720v720H120Zm60-500h600v-160H180v160Zm220 220h160v-160H400v160Zm0 220h160v-160H400v160ZM180-400h160v-160H180v160Zm440 0h160v-160H620v160ZM180-180h160v-160H180v160Zm440 0h160v-160H620v160Z\"/>\n",
              "  </svg>\n",
              "    </button>\n",
              "\n",
              "  <style>\n",
              "    .colab-df-container {\n",
              "      display:flex;\n",
              "      gap: 12px;\n",
              "    }\n",
              "\n",
              "    .colab-df-convert {\n",
              "      background-color: #E8F0FE;\n",
              "      border: none;\n",
              "      border-radius: 50%;\n",
              "      cursor: pointer;\n",
              "      display: none;\n",
              "      fill: #1967D2;\n",
              "      height: 32px;\n",
              "      padding: 0 0 0 0;\n",
              "      width: 32px;\n",
              "    }\n",
              "\n",
              "    .colab-df-convert:hover {\n",
              "      background-color: #E2EBFA;\n",
              "      box-shadow: 0px 1px 2px rgba(60, 64, 67, 0.3), 0px 1px 3px 1px rgba(60, 64, 67, 0.15);\n",
              "      fill: #174EA6;\n",
              "    }\n",
              "\n",
              "    .colab-df-buttons div {\n",
              "      margin-bottom: 4px;\n",
              "    }\n",
              "\n",
              "    [theme=dark] .colab-df-convert {\n",
              "      background-color: #3B4455;\n",
              "      fill: #D2E3FC;\n",
              "    }\n",
              "\n",
              "    [theme=dark] .colab-df-convert:hover {\n",
              "      background-color: #434B5C;\n",
              "      box-shadow: 0px 1px 3px 1px rgba(0, 0, 0, 0.15);\n",
              "      filter: drop-shadow(0px 1px 2px rgba(0, 0, 0, 0.3));\n",
              "      fill: #FFFFFF;\n",
              "    }\n",
              "  </style>\n",
              "\n",
              "    <script>\n",
              "      const buttonEl =\n",
              "        document.querySelector('#df-5c1fbf88-daa2-4912-84fc-97ee51f6d79b button.colab-df-convert');\n",
              "      buttonEl.style.display =\n",
              "        google.colab.kernel.accessAllowed ? 'block' : 'none';\n",
              "\n",
              "      async function convertToInteractive(key) {\n",
              "        const element = document.querySelector('#df-5c1fbf88-daa2-4912-84fc-97ee51f6d79b');\n",
              "        const dataTable =\n",
              "          await google.colab.kernel.invokeFunction('convertToInteractive',\n",
              "                                                    [key], {});\n",
              "        if (!dataTable) return;\n",
              "\n",
              "        const docLinkHtml = 'Like what you see? Visit the ' +\n",
              "          '<a target=\"_blank\" href=https://colab.research.google.com/notebooks/data_table.ipynb>data table notebook</a>'\n",
              "          + ' to learn more about interactive tables.';\n",
              "        element.innerHTML = '';\n",
              "        dataTable['output_type'] = 'display_data';\n",
              "        await google.colab.output.renderOutput(dataTable, element);\n",
              "        const docLink = document.createElement('div');\n",
              "        docLink.innerHTML = docLinkHtml;\n",
              "        element.appendChild(docLink);\n",
              "      }\n",
              "    </script>\n",
              "  </div>\n",
              "\n",
              "\n",
              "<div id=\"df-0d785df8-e99d-4d2a-b3f7-d61945d6ba40\">\n",
              "  <button class=\"colab-df-quickchart\" onclick=\"quickchart('df-0d785df8-e99d-4d2a-b3f7-d61945d6ba40')\"\n",
              "            title=\"Suggest charts\"\n",
              "            style=\"display:none;\">\n",
              "\n",
              "<svg xmlns=\"http://www.w3.org/2000/svg\" height=\"24px\"viewBox=\"0 0 24 24\"\n",
              "     width=\"24px\">\n",
              "    <g>\n",
              "        <path d=\"M19 3H5c-1.1 0-2 .9-2 2v14c0 1.1.9 2 2 2h14c1.1 0 2-.9 2-2V5c0-1.1-.9-2-2-2zM9 17H7v-7h2v7zm4 0h-2V7h2v10zm4 0h-2v-4h2v4z\"/>\n",
              "    </g>\n",
              "</svg>\n",
              "  </button>\n",
              "\n",
              "<style>\n",
              "  .colab-df-quickchart {\n",
              "      --bg-color: #E8F0FE;\n",
              "      --fill-color: #1967D2;\n",
              "      --hover-bg-color: #E2EBFA;\n",
              "      --hover-fill-color: #174EA6;\n",
              "      --disabled-fill-color: #AAA;\n",
              "      --disabled-bg-color: #DDD;\n",
              "  }\n",
              "\n",
              "  [theme=dark] .colab-df-quickchart {\n",
              "      --bg-color: #3B4455;\n",
              "      --fill-color: #D2E3FC;\n",
              "      --hover-bg-color: #434B5C;\n",
              "      --hover-fill-color: #FFFFFF;\n",
              "      --disabled-bg-color: #3B4455;\n",
              "      --disabled-fill-color: #666;\n",
              "  }\n",
              "\n",
              "  .colab-df-quickchart {\n",
              "    background-color: var(--bg-color);\n",
              "    border: none;\n",
              "    border-radius: 50%;\n",
              "    cursor: pointer;\n",
              "    display: none;\n",
              "    fill: var(--fill-color);\n",
              "    height: 32px;\n",
              "    padding: 0;\n",
              "    width: 32px;\n",
              "  }\n",
              "\n",
              "  .colab-df-quickchart:hover {\n",
              "    background-color: var(--hover-bg-color);\n",
              "    box-shadow: 0 1px 2px rgba(60, 64, 67, 0.3), 0 1px 3px 1px rgba(60, 64, 67, 0.15);\n",
              "    fill: var(--button-hover-fill-color);\n",
              "  }\n",
              "\n",
              "  .colab-df-quickchart-complete:disabled,\n",
              "  .colab-df-quickchart-complete:disabled:hover {\n",
              "    background-color: var(--disabled-bg-color);\n",
              "    fill: var(--disabled-fill-color);\n",
              "    box-shadow: none;\n",
              "  }\n",
              "\n",
              "  .colab-df-spinner {\n",
              "    border: 2px solid var(--fill-color);\n",
              "    border-color: transparent;\n",
              "    border-bottom-color: var(--fill-color);\n",
              "    animation:\n",
              "      spin 1s steps(1) infinite;\n",
              "  }\n",
              "\n",
              "  @keyframes spin {\n",
              "    0% {\n",
              "      border-color: transparent;\n",
              "      border-bottom-color: var(--fill-color);\n",
              "      border-left-color: var(--fill-color);\n",
              "    }\n",
              "    20% {\n",
              "      border-color: transparent;\n",
              "      border-left-color: var(--fill-color);\n",
              "      border-top-color: var(--fill-color);\n",
              "    }\n",
              "    30% {\n",
              "      border-color: transparent;\n",
              "      border-left-color: var(--fill-color);\n",
              "      border-top-color: var(--fill-color);\n",
              "      border-right-color: var(--fill-color);\n",
              "    }\n",
              "    40% {\n",
              "      border-color: transparent;\n",
              "      border-right-color: var(--fill-color);\n",
              "      border-top-color: var(--fill-color);\n",
              "    }\n",
              "    60% {\n",
              "      border-color: transparent;\n",
              "      border-right-color: var(--fill-color);\n",
              "    }\n",
              "    80% {\n",
              "      border-color: transparent;\n",
              "      border-right-color: var(--fill-color);\n",
              "      border-bottom-color: var(--fill-color);\n",
              "    }\n",
              "    90% {\n",
              "      border-color: transparent;\n",
              "      border-bottom-color: var(--fill-color);\n",
              "    }\n",
              "  }\n",
              "</style>\n",
              "\n",
              "  <script>\n",
              "    async function quickchart(key) {\n",
              "      const quickchartButtonEl =\n",
              "        document.querySelector('#' + key + ' button');\n",
              "      quickchartButtonEl.disabled = true;  // To prevent multiple clicks.\n",
              "      quickchartButtonEl.classList.add('colab-df-spinner');\n",
              "      try {\n",
              "        const charts = await google.colab.kernel.invokeFunction(\n",
              "            'suggestCharts', [key], {});\n",
              "      } catch (error) {\n",
              "        console.error('Error during call to suggestCharts:', error);\n",
              "      }\n",
              "      quickchartButtonEl.classList.remove('colab-df-spinner');\n",
              "      quickchartButtonEl.classList.add('colab-df-quickchart-complete');\n",
              "    }\n",
              "    (() => {\n",
              "      let quickchartButtonEl =\n",
              "        document.querySelector('#df-0d785df8-e99d-4d2a-b3f7-d61945d6ba40 button');\n",
              "      quickchartButtonEl.style.display =\n",
              "        google.colab.kernel.accessAllowed ? 'block' : 'none';\n",
              "    })();\n",
              "  </script>\n",
              "</div>\n",
              "\n",
              "    </div>\n",
              "  </div>\n"
            ],
            "application/vnd.google.colaboratory.intrinsic+json": {
              "type": "dataframe",
              "variable_name": "df"
            }
          },
          "metadata": {},
          "execution_count": 5
        }
      ]
    },
    {
      "cell_type": "code",
      "source": [
        "print(df.info())"
      ],
      "metadata": {
        "id": "celPrEYsrAPG",
        "colab": {
          "base_uri": "https://localhost:8080/"
        },
        "outputId": "aad1bd29-4e66-4932-dbce-58ab2dfcffdc"
      },
      "execution_count": 6,
      "outputs": [
        {
          "output_type": "stream",
          "name": "stdout",
          "text": [
            "<class 'pandas.core.frame.DataFrame'>\n",
            "RangeIndex: 1000000 entries, 0 to 999999\n",
            "Data columns (total 4 columns):\n",
            " #   Column                   Non-Null Count    Dtype \n",
            "---  ------                   --------------    ----- \n",
            " 0   LCLid                    1000000 non-null  object\n",
            " 1   stdorToU                 1000000 non-null  object\n",
            " 2   DateTime                 1000000 non-null  object\n",
            " 3   KWH/hh (per half hour)   1000000 non-null  object\n",
            "dtypes: object(4)\n",
            "memory usage: 30.5+ MB\n",
            "None\n"
          ]
        }
      ]
    },
    {
      "cell_type": "code",
      "source": [
        "# Display summary statistics\n",
        "print(df.describe())"
      ],
      "metadata": {
        "id": "cIuxuGxnrASR",
        "colab": {
          "base_uri": "https://localhost:8080/"
        },
        "outputId": "74821a6f-cfcc-4a95-9f7b-487d0d7a58e3"
      },
      "execution_count": 7,
      "outputs": [
        {
          "output_type": "stream",
          "name": "stdout",
          "text": [
            "            LCLid stdorToU                     DateTime  \\\n",
            "count     1000000  1000000                      1000000   \n",
            "unique         30        1                        39102   \n",
            "top     MAC000018      Std  2012-11-20 00:00:00.0000000   \n",
            "freq        39082  1000000                           58   \n",
            "\n",
            "       KWH/hh (per half hour)   \n",
            "count                  1000000  \n",
            "unique                    4801  \n",
            "top                         0   \n",
            "freq                     45538  \n"
          ]
        }
      ]
    },
    {
      "cell_type": "code",
      "source": [
        "# Convert the DateTime column to datetime format\n",
        "df['DateTime'] = pd.to_datetime(df['DateTime'])"
      ],
      "metadata": {
        "id": "aa0j3VKqrAUB"
      },
      "execution_count": 8,
      "outputs": []
    },
    {
      "cell_type": "code",
      "source": [
        "# Set the DateTime column as the index\n",
        "#df.set_index('DateTime', inplace=True)"
      ],
      "metadata": {
        "id": "YDVpBBi6rAXO"
      },
      "execution_count": 9,
      "outputs": []
    },
    {
      "cell_type": "markdown",
      "source": [
        "##Renaming KWH/hh (per half hour) column to avoid errors due to spaces in column name."
      ],
      "metadata": {
        "id": "T1as745skv3E"
      }
    },
    {
      "cell_type": "code",
      "source": [
        "# Display the original DataFrame column names\n",
        "print(\"Original columns:\", df.columns)\n",
        "\n",
        "# Rename the column using a name without spaces in it.\n",
        "df.rename(columns={'KWH/hh (per half hour) ': 'KWH/hh'}, inplace=True)\n",
        "\n",
        "# Display the DataFrame after renaming the column\n",
        "print(\"\\nColumns after renaming:\", df.columns)"
      ],
      "metadata": {
        "id": "L6qQO1KCrAZA",
        "colab": {
          "base_uri": "https://localhost:8080/"
        },
        "outputId": "ca42af23-6736-4283-8553-ffc7bfce6121"
      },
      "execution_count": 10,
      "outputs": [
        {
          "output_type": "stream",
          "name": "stdout",
          "text": [
            "Original columns: Index(['LCLid', 'stdorToU', 'DateTime', 'KWH/hh (per half hour) '], dtype='object')\n",
            "\n",
            "Columns after renaming: Index(['LCLid', 'stdorToU', 'DateTime', 'KWH/hh'], dtype='object')\n"
          ]
        }
      ]
    },
    {
      "cell_type": "code",
      "source": [
        "# Convert the renamed column to numeric\n",
        "df['KWH/hh'] = pd.to_numeric(df['KWH/hh'], errors='coerce')"
      ],
      "metadata": {
        "id": "vpftiWBMrAcX"
      },
      "execution_count": 11,
      "outputs": []
    },
    {
      "cell_type": "markdown",
      "source": [
        "## Converting half hourly data to daily data."
      ],
      "metadata": {
        "id": "h0jTa5mGlXur"
      }
    },
    {
      "cell_type": "code",
      "source": [
        "# Group by day and calculate the mean of kWh/hh for each day\n",
        "daily_data = df.groupby(df['DateTime'].dt.date)['KWH/hh'].mean().reset_index()\n",
        "\n",
        "# Print the first few rows of daily_data for verification\n",
        "print(daily_data.head())"
      ],
      "metadata": {
        "id": "KZruSJVyrh-z",
        "colab": {
          "base_uri": "https://localhost:8080/"
        },
        "outputId": "e8edb9de-dee8-4013-afc9-52b35c6877d6"
      },
      "execution_count": 12,
      "outputs": [
        {
          "output_type": "stream",
          "name": "stdout",
          "text": [
            "     DateTime    KWH/hh\n",
            "0  2011-12-06  0.133955\n",
            "1  2011-12-07  0.290976\n",
            "2  2011-12-08  0.272340\n",
            "3  2011-12-09  0.237201\n",
            "4  2011-12-10  0.269921\n"
          ]
        }
      ]
    },
    {
      "cell_type": "markdown",
      "source": [
        "## Plotting the data using Histogram."
      ],
      "metadata": {
        "id": "yHdf3BtolnlY"
      }
    },
    {
      "cell_type": "code",
      "source": [
        "plt.figure(figsize=(12, 6))\n",
        "plt.plot(daily_data['DateTime'], daily_data['KWH/hh'], marker='o', linestyle='-')\n",
        "plt.title('Daily Average Energy Consumption')\n",
        "plt.xlabel('Date')\n",
        "plt.ylabel('kWh(daily)')\n",
        "plt.grid(True)\n",
        "plt.show()"
      ],
      "metadata": {
        "id": "m7o3gdpXriBv",
        "colab": {
          "base_uri": "https://localhost:8080/",
          "height": 564
        },
        "outputId": "bace3e3a-e0f0-4b65-8ffd-320deca3d9da"
      },
      "execution_count": 27,
      "outputs": [
        {
          "output_type": "display_data",
          "data": {
            "text/plain": [
              "<Figure size 1200x600 with 1 Axes>"
            ],
            "image/png": "[encoded data removed]"
          },
          "metadata": {}
        }
      ]
    },
    {
      "cell_type": "code",
      "source": [
        "print(daily_data.info())"
      ],
      "metadata": {
        "id": "lRPQnvrMrAeO",
        "colab": {
          "base_uri": "https://localhost:8080/"
        },
        "outputId": "d0ac38dc-9653-4076-c017-a26f5acd44ad"
      },
      "execution_count": 14,
      "outputs": [
        {
          "output_type": "stream",
          "name": "stdout",
          "text": [
            "<class 'pandas.core.frame.DataFrame'>\n",
            "RangeIndex: 816 entries, 0 to 815\n",
            "Data columns (total 2 columns):\n",
            " #   Column    Non-Null Count  Dtype  \n",
            "---  ------    --------------  -----  \n",
            " 0   DateTime  816 non-null    object \n",
            " 1   KWH/hh    816 non-null    float64\n",
            "dtypes: float64(1), object(1)\n",
            "memory usage: 12.9+ KB\n",
            "None\n"
          ]
        }
      ]
    },
    {
      "cell_type": "markdown",
      "source": [
        "##Calling weather data."
      ],
      "metadata": {
        "id": "SP_lF-zYl3qf"
      }
    },
    {
      "cell_type": "code",
      "source": [
        "file_path = '/content/drive/My Drive/weather-data.csv'\n",
        "\n",
        "# Read the CSV file into a DataFrame\n",
        "weatherdf = pd.read_csv(file_path)\n",
        "\n",
        "# Display the first few rows of the DataFrame to verify\n",
        "print(weatherdf.head())"
      ],
      "metadata": {
        "colab": {
          "base_uri": "https://localhost:8080/"
        },
        "id": "6jc0i9ilUCtt",
        "outputId": "bec63dd0-826f-4cf1-e2e1-5a1a145de9d5"
      },
      "execution_count": 15,
      "outputs": [
        {
          "output_type": "stream",
          "name": "stdout",
          "text": [
            "         time  weather_code (wmo code)  temperature_2m_max (°C)  \\\n",
            "0  01/11/2011                       51                     15.0   \n",
            "1  02/11/2011                       51                     14.2   \n",
            "2  03/11/2011                       53                     15.6   \n",
            "3  04/11/2011                       61                     14.9   \n",
            "4  05/11/2011                       51                     13.9   \n",
            "\n",
            "   temperature_2m_min (°C)  temperature_2m_mean (°C)  \\\n",
            "0                      8.9                      13.1   \n",
            "1                      8.4                      11.4   \n",
            "2                     12.9                      14.6   \n",
            "3                     11.1                      12.7   \n",
            "4                      8.6                      11.4   \n",
            "\n",
            "   apparent_temperature_max (°C)  apparent_temperature_min (°C)  \\\n",
            "0                           13.2                            7.1   \n",
            "1                           12.1                            6.0   \n",
            "2                           13.7                           11.9   \n",
            "3                           12.8                           10.2   \n",
            "4                           12.0                            7.5   \n",
            "\n",
            "   apparent_temperature_mean (°C) sunrise (iso8601)  sunset (iso8601)  \\\n",
            "0                            11.3  2011-11-01T07:53  2011-11-01T17:34   \n",
            "1                             8.6  2011-11-02T07:55  2011-11-02T17:33   \n",
            "2                            12.8  2011-11-03T07:57  2011-11-03T17:31   \n",
            "3                            11.4  2011-11-04T07:59  2011-11-04T17:29   \n",
            "4                             9.7  2011-11-05T08:00  2011-11-05T17:27   \n",
            "\n",
            "   daylight_duration (s)  sunshine_duration (s)  precipitation_sum (mm)  \\\n",
            "0               34876.89               23635.93                     0.9   \n",
            "1               34662.17               24176.65                     1.6   \n",
            "2               34448.32                 899.05                     4.1   \n",
            "3               34235.54               10425.34                    12.8   \n",
            "4               34024.06                6934.98                     0.4   \n",
            "\n",
            "   rain_sum (mm)  precipitation_hours (h)  wind_speed_10m_max (km/h)  \\\n",
            "0            0.9                        5                       18.8   \n",
            "1            1.6                        5                       23.4   \n",
            "2            4.1                       15                       25.8   \n",
            "3           12.8                       16                       19.6   \n",
            "4            0.4                        4                       19.0   \n",
            "\n",
            "   wind_direction_10m_dominant (°)  \n",
            "0                              205  \n",
            "1                              142  \n",
            "2                              163  \n",
            "3                              177  \n",
            "4                              355  \n"
          ]
        }
      ]
    },
    {
      "cell_type": "code",
      "source": [
        "# Convert the time column to datetime format.\n",
        "weatherdf['time'] = pd.to_datetime(weatherdf['time'], dayfirst=True)\n",
        "\n",
        "# Display the DataFrame to verify the conversion\n",
        "print(weatherdf.head())"
      ],
      "metadata": {
        "colab": {
          "base_uri": "https://localhost:8080/"
        },
        "id": "NpYGiVADXNhu",
        "outputId": "e78ebe1f-d3f9-4ae4-bb4b-34e6255270bc"
      },
      "execution_count": 16,
      "outputs": [
        {
          "output_type": "stream",
          "name": "stdout",
          "text": [
            "        time  weather_code (wmo code)  temperature_2m_max (°C)  \\\n",
            "0 2011-11-01                       51                     15.0   \n",
            "1 2011-11-02                       51                     14.2   \n",
            "2 2011-11-03                       53                     15.6   \n",
            "3 2011-11-04                       61                     14.9   \n",
            "4 2011-11-05                       51                     13.9   \n",
            "\n",
            "   temperature_2m_min (°C)  temperature_2m_mean (°C)  \\\n",
            "0                      8.9                      13.1   \n",
            "1                      8.4                      11.4   \n",
            "2                     12.9                      14.6   \n",
            "3                     11.1                      12.7   \n",
            "4                      8.6                      11.4   \n",
            "\n",
            "   apparent_temperature_max (°C)  apparent_temperature_min (°C)  \\\n",
            "0                           13.2                            7.1   \n",
            "1                           12.1                            6.0   \n",
            "2                           13.7                           11.9   \n",
            "3                           12.8                           10.2   \n",
            "4                           12.0                            7.5   \n",
            "\n",
            "   apparent_temperature_mean (°C) sunrise (iso8601)  sunset (iso8601)  \\\n",
            "0                            11.3  2011-11-01T07:53  2011-11-01T17:34   \n",
            "1                             8.6  2011-11-02T07:55  2011-11-02T17:33   \n",
            "2                            12.8  2011-11-03T07:57  2011-11-03T17:31   \n",
            "3                            11.4  2011-11-04T07:59  2011-11-04T17:29   \n",
            "4                             9.7  2011-11-05T08:00  2011-11-05T17:27   \n",
            "\n",
            "   daylight_duration (s)  sunshine_duration (s)  precipitation_sum (mm)  \\\n",
            "0               34876.89               23635.93                     0.9   \n",
            "1               34662.17               24176.65                     1.6   \n",
            "2               34448.32                 899.05                     4.1   \n",
            "3               34235.54               10425.34                    12.8   \n",
            "4               34024.06                6934.98                     0.4   \n",
            "\n",
            "   rain_sum (mm)  precipitation_hours (h)  wind_speed_10m_max (km/h)  \\\n",
            "0            0.9                        5                       18.8   \n",
            "1            1.6                        5                       23.4   \n",
            "2            4.1                       15                       25.8   \n",
            "3           12.8                       16                       19.6   \n",
            "4            0.4                        4                       19.0   \n",
            "\n",
            "   wind_direction_10m_dominant (°)  \n",
            "0                              205  \n",
            "1                              142  \n",
            "2                              163  \n",
            "3                              177  \n",
            "4                              355  \n"
          ]
        }
      ]
    },
    {
      "cell_type": "code",
      "source": [
        "print(weatherdf.columns)\n"
      ],
      "metadata": {
        "colab": {
          "base_uri": "https://localhost:8080/"
        },
        "id": "Uq3IYZsoY8qz",
        "outputId": "ecd61876-7e76-462a-ca89-edea1ccffb73"
      },
      "execution_count": 17,
      "outputs": [
        {
          "output_type": "stream",
          "name": "stdout",
          "text": [
            "Index(['time', 'weather_code (wmo code)', 'temperature_2m_max (°C)',\n",
            "       'temperature_2m_min (°C)', 'temperature_2m_mean (°C)',\n",
            "       'apparent_temperature_max (°C)', 'apparent_temperature_min (°C)',\n",
            "       'apparent_temperature_mean (°C)', 'sunrise (iso8601)',\n",
            "       'sunset (iso8601)', 'daylight_duration (s)', 'sunshine_duration (s)',\n",
            "       'precipitation_sum (mm)', 'rain_sum (mm)', 'precipitation_hours (h)',\n",
            "       'wind_speed_10m_max (km/h)', 'wind_direction_10m_dominant (°)'],\n",
            "      dtype='object')\n"
          ]
        }
      ]
    },
    {
      "cell_type": "markdown",
      "source": [
        "## Dropping NaNs."
      ],
      "metadata": {
        "id": "ADxeoAtUmDlL"
      }
    },
    {
      "cell_type": "code",
      "source": [
        "weatherdf = weatherdf[['time', 'weather_code (wmo code)', 'temperature_2m_max (°C)',\n",
        "       'temperature_2m_min (°C)', 'temperature_2m_mean (°C)',\n",
        "       'apparent_temperature_max (°C)', 'apparent_temperature_min (°C)',\n",
        "       'apparent_temperature_mean (°C)', 'sunrise (iso8601)',\n",
        "       'sunset (iso8601)', 'daylight_duration (s)', 'sunshine_duration (s)',\n",
        "       'precipitation_sum (mm)', 'rain_sum (mm)', 'precipitation_hours (h)',\n",
        "       'wind_speed_10m_max (km/h)', 'wind_direction_10m_dominant (°)']]\n",
        "weatherdf = weatherdf.dropna()"
      ],
      "metadata": {
        "id": "qeSOiup0rAhz"
      },
      "execution_count": 18,
      "outputs": []
    },
    {
      "cell_type": "code",
      "source": [
        "weatherdf.head()"
      ],
      "metadata": {
        "colab": {
          "base_uri": "https://localhost:8080/",
          "height": 330
        },
        "id": "V_q5SGofgvBU",
        "outputId": "e714a789-5ab9-413d-8c4e-873b3a9ba8c4"
      },
      "execution_count": 19,
      "outputs": [
        {
          "output_type": "execute_result",
          "data": {
            "text/plain": [
              "        time  weather_code (wmo code)  temperature_2m_max (°C)  \\\n",
              "0 2011-11-01                       51                     15.0   \n",
              "1 2011-11-02                       51                     14.2   \n",
              "2 2011-11-03                       53                     15.6   \n",
              "3 2011-11-04                       61                     14.9   \n",
              "4 2011-11-05                       51                     13.9   \n",
              "\n",
              "   temperature_2m_min (°C)  temperature_2m_mean (°C)  \\\n",
              "0                      8.9                      13.1   \n",
              "1                      8.4                      11.4   \n",
              "2                     12.9                      14.6   \n",
              "3                     11.1                      12.7   \n",
              "4                      8.6                      11.4   \n",
              "\n",
              "   apparent_temperature_max (°C)  apparent_temperature_min (°C)  \\\n",
              "0                           13.2                            7.1   \n",
              "1                           12.1                            6.0   \n",
              "2                           13.7                           11.9   \n",
              "3                           12.8                           10.2   \n",
              "4                           12.0                            7.5   \n",
              "\n",
              "   apparent_temperature_mean (°C) sunrise (iso8601)  sunset (iso8601)  \\\n",
              "0                            11.3  2011-11-01T07:53  2011-11-01T17:34   \n",
              "1                             8.6  2011-11-02T07:55  2011-11-02T17:33   \n",
              "2                            12.8  2011-11-03T07:57  2011-11-03T17:31   \n",
              "3                            11.4  2011-11-04T07:59  2011-11-04T17:29   \n",
              "4                             9.7  2011-11-05T08:00  2011-11-05T17:27   \n",
              "\n",
              "   daylight_duration (s)  sunshine_duration (s)  precipitation_sum (mm)  \\\n",
              "0               34876.89               23635.93                     0.9   \n",
              "1               34662.17               24176.65                     1.6   \n",
              "2               34448.32                 899.05                     4.1   \n",
              "3               34235.54               10425.34                    12.8   \n",
              "4               34024.06                6934.98                     0.4   \n",
              "\n",
              "   rain_sum (mm)  precipitation_hours (h)  wind_speed_10m_max (km/h)  \\\n",
              "0            0.9                        5                       18.8   \n",
              "1            1.6                        5                       23.4   \n",
              "2            4.1                       15                       25.8   \n",
              "3           12.8                       16                       19.6   \n",
              "4            0.4                        4                       19.0   \n",
              "\n",
              "   wind_direction_10m_dominant (°)  \n",
              "0                              205  \n",
              "1                              142  \n",
              "2                              163  \n",
              "3                              177  \n",
              "4                              355  "
            ],
            "text/html": [
              "\n",
              "  <div id=\"df-f04fa752-af58-4a9d-ad04-cf1755fab7a1\" class=\"colab-df-container\">\n",
              "    <div>\n",
              "<style scoped>\n",
              "    .dataframe tbody tr th:only-of-type {\n",
              "        vertical-align: middle;\n",
              "    }\n",
              "\n",
              "    .dataframe tbody tr th {\n",
              "        vertical-align: top;\n",
              "    }\n",
              "\n",
              "    .dataframe thead th {\n",
              "        text-align: right;\n",
              "    }\n",
              "</style>\n",
              "<table border=\"1\" class=\"dataframe\">\n",
              "  <thead>\n",
              "    <tr style=\"text-align: right;\">\n",
              "      <th></th>\n",
              "      <th>time</th>\n",
              "      <th>weather_code (wmo code)</th>\n",
              "      <th>temperature_2m_max (°C)</th>\n",
              "      <th>temperature_2m_min (°C)</th>\n",
              "      <th>temperature_2m_mean (°C)</th>\n",
              "      <th>apparent_temperature_max (°C)</th>\n",
              "      <th>apparent_temperature_min (°C)</th>\n",
              "      <th>apparent_temperature_mean (°C)</th>\n",
              "      <th>sunrise (iso8601)</th>\n",
              "      <th>sunset (iso8601)</th>\n",
              "      <th>daylight_duration (s)</th>\n",
              "      <th>sunshine_duration (s)</th>\n",
              "      <th>precipitation_sum (mm)</th>\n",
              "      <th>rain_sum (mm)</th>\n",
              "      <th>precipitation_hours (h)</th>\n",
              "      <th>wind_speed_10m_max (km/h)</th>\n",
              "      <th>wind_direction_10m_dominant (°)</th>\n",
              "    </tr>\n",
              "  </thead>\n",
              "  <tbody>\n",
              "    <tr>\n",
              "      <th>0</th>\n",
              "      <td>2011-11-01</td>\n",
              "      <td>51</td>\n",
              "      <td>15.0</td>\n",
              "      <td>8.9</td>\n",
              "      <td>13.1</td>\n",
              "      <td>13.2</td>\n",
              "      <td>7.1</td>\n",
              "      <td>11.3</td>\n",
              "      <td>2011-11-01T07:53</td>\n",
              "      <td>2011-11-01T17:34</td>\n",
              "      <td>34876.89</td>\n",
              "      <td>23635.93</td>\n",
              "      <td>0.9</td>\n",
              "      <td>0.9</td>\n",
              "      <td>5</td>\n",
              "      <td>18.8</td>\n",
              "      <td>205</td>\n",
              "    </tr>\n",
              "    <tr>\n",
              "      <th>1</th>\n",
              "      <td>2011-11-02</td>\n",
              "      <td>51</td>\n",
              "      <td>14.2</td>\n",
              "      <td>8.4</td>\n",
              "      <td>11.4</td>\n",
              "      <td>12.1</td>\n",
              "      <td>6.0</td>\n",
              "      <td>8.6</td>\n",
              "      <td>2011-11-02T07:55</td>\n",
              "      <td>2011-11-02T17:33</td>\n",
              "      <td>34662.17</td>\n",
              "      <td>24176.65</td>\n",
              "      <td>1.6</td>\n",
              "      <td>1.6</td>\n",
              "      <td>5</td>\n",
              "      <td>23.4</td>\n",
              "      <td>142</td>\n",
              "    </tr>\n",
              "    <tr>\n",
              "      <th>2</th>\n",
              "      <td>2011-11-03</td>\n",
              "      <td>53</td>\n",
              "      <td>15.6</td>\n",
              "      <td>12.9</td>\n",
              "      <td>14.6</td>\n",
              "      <td>13.7</td>\n",
              "      <td>11.9</td>\n",
              "      <td>12.8</td>\n",
              "      <td>2011-11-03T07:57</td>\n",
              "      <td>2011-11-03T17:31</td>\n",
              "      <td>34448.32</td>\n",
              "      <td>899.05</td>\n",
              "      <td>4.1</td>\n",
              "      <td>4.1</td>\n",
              "      <td>15</td>\n",
              "      <td>25.8</td>\n",
              "      <td>163</td>\n",
              "    </tr>\n",
              "    <tr>\n",
              "      <th>3</th>\n",
              "      <td>2011-11-04</td>\n",
              "      <td>61</td>\n",
              "      <td>14.9</td>\n",
              "      <td>11.1</td>\n",
              "      <td>12.7</td>\n",
              "      <td>12.8</td>\n",
              "      <td>10.2</td>\n",
              "      <td>11.4</td>\n",
              "      <td>2011-11-04T07:59</td>\n",
              "      <td>2011-11-04T17:29</td>\n",
              "      <td>34235.54</td>\n",
              "      <td>10425.34</td>\n",
              "      <td>12.8</td>\n",
              "      <td>12.8</td>\n",
              "      <td>16</td>\n",
              "      <td>19.6</td>\n",
              "      <td>177</td>\n",
              "    </tr>\n",
              "    <tr>\n",
              "      <th>4</th>\n",
              "      <td>2011-11-05</td>\n",
              "      <td>51</td>\n",
              "      <td>13.9</td>\n",
              "      <td>8.6</td>\n",
              "      <td>11.4</td>\n",
              "      <td>12.0</td>\n",
              "      <td>7.5</td>\n",
              "      <td>9.7</td>\n",
              "      <td>2011-11-05T08:00</td>\n",
              "      <td>2011-11-05T17:27</td>\n",
              "      <td>34024.06</td>\n",
              "      <td>6934.98</td>\n",
              "      <td>0.4</td>\n",
              "      <td>0.4</td>\n",
              "      <td>4</td>\n",
              "      <td>19.0</td>\n",
              "      <td>355</td>\n",
              "    </tr>\n",
              "  </tbody>\n",
              "</table>\n",
              "</div>\n",
              "    <div class=\"colab-df-buttons\">\n",
              "\n",
              "  <div class=\"colab-df-container\">\n",
              "    <button class=\"colab-df-convert\" onclick=\"convertToInteractive('df-f04fa752-af58-4a9d-ad04-cf1755fab7a1')\"\n",
              "            title=\"Convert this dataframe to an interactive table.\"\n",
              "            style=\"display:none;\">\n",
              "\n",
              "  <svg xmlns=\"http://www.w3.org/2000/svg\" height=\"24px\" viewBox=\"0 -960 960 960\">\n",
              "    <path d=\"M120-120v-720h720v720H120Zm60-500h600v-160H180v160Zm220 220h160v-160H400v160Zm0 220h160v-160H400v160ZM180-400h160v-160H180v160Zm440 0h160v-160H620v160ZM180-180h160v-160H180v160Zm440 0h160v-160H620v160Z\"/>\n",
              "  </svg>\n",
              "    </button>\n",
              "\n",
              "  <style>\n",
              "    .colab-df-container {\n",
              "      display:flex;\n",
              "      gap: 12px;\n",
              "    }\n",
              "\n",
              "    .colab-df-convert {\n",
              "      background-color: #E8F0FE;\n",
              "      border: none;\n",
              "      border-radius: 50%;\n",
              "      cursor: pointer;\n",
              "      display: none;\n",
              "      fill: #1967D2;\n",
              "      height: 32px;\n",
              "      padding: 0 0 0 0;\n",
              "      width: 32px;\n",
              "    }\n",
              "\n",
              "    .colab-df-convert:hover {\n",
              "      background-color: #E2EBFA;\n",
              "      box-shadow: 0px 1px 2px rgba(60, 64, 67, 0.3), 0px 1px 3px 1px rgba(60, 64, 67, 0.15);\n",
              "      fill: #174EA6;\n",
              "    }\n",
              "\n",
              "    .colab-df-buttons div {\n",
              "      margin-bottom: 4px;\n",
              "    }\n",
              "\n",
              "    [theme=dark] .colab-df-convert {\n",
              "      background-color: #3B4455;\n",
              "      fill: #D2E3FC;\n",
              "    }\n",
              "\n",
              "    [theme=dark] .colab-df-convert:hover {\n",
              "      background-color: #434B5C;\n",
              "      box-shadow: 0px 1px 3px 1px rgba(0, 0, 0, 0.15);\n",
              "      filter: drop-shadow(0px 1px 2px rgba(0, 0, 0, 0.3));\n",
              "      fill: #FFFFFF;\n",
              "    }\n",
              "  </style>\n",
              "\n",
              "    <script>\n",
              "      const buttonEl =\n",
              "        document.querySelector('#df-f04fa752-af58-4a9d-ad04-cf1755fab7a1 button.colab-df-convert');\n",
              "      buttonEl.style.display =\n",
              "        google.colab.kernel.accessAllowed ? 'block' : 'none';\n",
              "\n",
              "      async function convertToInteractive(key) {\n",
              "        const element = document.querySelector('#df-f04fa752-af58-4a9d-ad04-cf1755fab7a1');\n",
              "        const dataTable =\n",
              "          await google.colab.kernel.invokeFunction('convertToInteractive',\n",
              "                                                    [key], {});\n",
              "        if (!dataTable) return;\n",
              "\n",
              "        const docLinkHtml = 'Like what you see? Visit the ' +\n",
              "          '<a target=\"_blank\" href=https://colab.research.google.com/notebooks/data_table.ipynb>data table notebook</a>'\n",
              "          + ' to learn more about interactive tables.';\n",
              "        element.innerHTML = '';\n",
              "        dataTable['output_type'] = 'display_data';\n",
              "        await google.colab.output.renderOutput(dataTable, element);\n",
              "        const docLink = document.createElement('div');\n",
              "        docLink.innerHTML = docLinkHtml;\n",
              "        element.appendChild(docLink);\n",
              "      }\n",
              "    </script>\n",
              "  </div>\n",
              "\n",
              "\n",
              "<div id=\"df-ad596fc3-bea4-4d89-83aa-5fb640bb49b3\">\n",
              "  <button class=\"colab-df-quickchart\" onclick=\"quickchart('df-ad596fc3-bea4-4d89-83aa-5fb640bb49b3')\"\n",
              "            title=\"Suggest charts\"\n",
              "            style=\"display:none;\">\n",
              "\n",
              "<svg xmlns=\"http://www.w3.org/2000/svg\" height=\"24px\"viewBox=\"0 0 24 24\"\n",
              "     width=\"24px\">\n",
              "    <g>\n",
              "        <path d=\"M19 3H5c-1.1 0-2 .9-2 2v14c0 1.1.9 2 2 2h14c1.1 0 2-.9 2-2V5c0-1.1-.9-2-2-2zM9 17H7v-7h2v7zm4 0h-2V7h2v10zm4 0h-2v-4h2v4z\"/>\n",
              "    </g>\n",
              "</svg>\n",
              "  </button>\n",
              "\n",
              "<style>\n",
              "  .colab-df-quickchart {\n",
              "      --bg-color: #E8F0FE;\n",
              "      --fill-color: #1967D2;\n",
              "      --hover-bg-color: #E2EBFA;\n",
              "      --hover-fill-color: #174EA6;\n",
              "      --disabled-fill-color: #AAA;\n",
              "      --disabled-bg-color: #DDD;\n",
              "  }\n",
              "\n",
              "  [theme=dark] .colab-df-quickchart {\n",
              "      --bg-color: #3B4455;\n",
              "      --fill-color: #D2E3FC;\n",
              "      --hover-bg-color: #434B5C;\n",
              "      --hover-fill-color: #FFFFFF;\n",
              "      --disabled-bg-color: #3B4455;\n",
              "      --disabled-fill-color: #666;\n",
              "  }\n",
              "\n",
              "  .colab-df-quickchart {\n",
              "    background-color: var(--bg-color);\n",
              "    border: none;\n",
              "    border-radius: 50%;\n",
              "    cursor: pointer;\n",
              "    display: none;\n",
              "    fill: var(--fill-color);\n",
              "    height: 32px;\n",
              "    padding: 0;\n",
              "    width: 32px;\n",
              "  }\n",
              "\n",
              "  .colab-df-quickchart:hover {\n",
              "    background-color: var(--hover-bg-color);\n",
              "    box-shadow: 0 1px 2px rgba(60, 64, 67, 0.3), 0 1px 3px 1px rgba(60, 64, 67, 0.15);\n",
              "    fill: var(--button-hover-fill-color);\n",
              "  }\n",
              "\n",
              "  .colab-df-quickchart-complete:disabled,\n",
              "  .colab-df-quickchart-complete:disabled:hover {\n",
              "    background-color: var(--disabled-bg-color);\n",
              "    fill: var(--disabled-fill-color);\n",
              "    box-shadow: none;\n",
              "  }\n",
              "\n",
              "  .colab-df-spinner {\n",
              "    border: 2px solid var(--fill-color);\n",
              "    border-color: transparent;\n",
              "    border-bottom-color: var(--fill-color);\n",
              "    animation:\n",
              "      spin 1s steps(1) infinite;\n",
              "  }\n",
              "\n",
              "  @keyframes spin {\n",
              "    0% {\n",
              "      border-color: transparent;\n",
              "      border-bottom-color: var(--fill-color);\n",
              "      border-left-color: var(--fill-color);\n",
              "    }\n",
              "    20% {\n",
              "      border-color: transparent;\n",
              "      border-left-color: var(--fill-color);\n",
              "      border-top-color: var(--fill-color);\n",
              "    }\n",
              "    30% {\n",
              "      border-color: transparent;\n",
              "      border-left-color: var(--fill-color);\n",
              "      border-top-color: var(--fill-color);\n",
              "      border-right-color: var(--fill-color);\n",
              "    }\n",
              "    40% {\n",
              "      border-color: transparent;\n",
              "      border-right-color: var(--fill-color);\n",
              "      border-top-color: var(--fill-color);\n",
              "    }\n",
              "    60% {\n",
              "      border-color: transparent;\n",
              "      border-right-color: var(--fill-color);\n",
              "    }\n",
              "    80% {\n",
              "      border-color: transparent;\n",
              "      border-right-color: var(--fill-color);\n",
              "      border-bottom-color: var(--fill-color);\n",
              "    }\n",
              "    90% {\n",
              "      border-color: transparent;\n",
              "      border-bottom-color: var(--fill-color);\n",
              "    }\n",
              "  }\n",
              "</style>\n",
              "\n",
              "  <script>\n",
              "    async function quickchart(key) {\n",
              "      const quickchartButtonEl =\n",
              "        document.querySelector('#' + key + ' button');\n",
              "      quickchartButtonEl.disabled = true;  // To prevent multiple clicks.\n",
              "      quickchartButtonEl.classList.add('colab-df-spinner');\n",
              "      try {\n",
              "        const charts = await google.colab.kernel.invokeFunction(\n",
              "            'suggestCharts', [key], {});\n",
              "      } catch (error) {\n",
              "        console.error('Error during call to suggestCharts:', error);\n",
              "      }\n",
              "      quickchartButtonEl.classList.remove('colab-df-spinner');\n",
              "      quickchartButtonEl.classList.add('colab-df-quickchart-complete');\n",
              "    }\n",
              "    (() => {\n",
              "      let quickchartButtonEl =\n",
              "        document.querySelector('#df-ad596fc3-bea4-4d89-83aa-5fb640bb49b3 button');\n",
              "      quickchartButtonEl.style.display =\n",
              "        google.colab.kernel.accessAllowed ? 'block' : 'none';\n",
              "    })();\n",
              "  </script>\n",
              "</div>\n",
              "\n",
              "    </div>\n",
              "  </div>\n"
            ],
            "application/vnd.google.colaboratory.intrinsic+json": {
              "type": "dataframe",
              "variable_name": "weatherdf",
              "summary": "{\n  \"name\": \"weatherdf\",\n  \"rows\": 851,\n  \"fields\": [\n    {\n      \"column\": \"time\",\n      \"properties\": {\n        \"dtype\": \"date\",\n        \"min\": \"2011-11-01 00:00:00\",\n        \"max\": \"2014-02-28 00:00:00\",\n        \"num_unique_values\": 851,\n        \"samples\": [\n          \"2012-01-06 00:00:00\",\n          \"2012-09-12 00:00:00\",\n          \"2013-08-20 00:00:00\"\n        ],\n        \"semantic_type\": \"\",\n        \"description\": \"\"\n      }\n    },\n    {\n      \"column\": \"weather_code (wmo code)\",\n      \"properties\": {\n        \"dtype\": \"number\",\n        \"std\": 27,\n        \"min\": 0,\n        \"max\": 75,\n        \"num_unique_values\": 13,\n        \"samples\": [\n          71,\n          0,\n          51\n        ],\n        \"semantic_type\": \"\",\n        \"description\": \"\"\n      }\n    },\n    {\n      \"column\": \"temperature_2m_max (\\u00b0C)\",\n      \"properties\": {\n        \"dtype\": \"number\",\n        \"std\": 6.0202338993092,\n        \"min\": -0.9,\n        \"max\": 30.4,\n        \"num_unique_values\": 240,\n        \"samples\": [\n          6.9,\n          12.9,\n          16.5\n        ],\n        \"semantic_type\": \"\",\n        \"description\": \"\"\n      }\n    },\n    {\n      \"column\": \"temperature_2m_min (\\u00b0C)\",\n      \"properties\": {\n        \"dtype\": \"number\",\n        \"std\": 5.169458346110867,\n        \"min\": -5.8,\n        \"max\": 18.9,\n        \"num_unique_values\": 207,\n        \"samples\": [\n          -2.9,\n          3.8,\n          9.6\n        ],\n        \"semantic_type\": \"\",\n        \"description\": \"\"\n      }\n    },\n    {\n      \"column\": \"temperature_2m_mean (\\u00b0C)\",\n      \"properties\": {\n        \"dtype\": \"number\",\n        \"std\": 5.455884980018025,\n        \"min\": -2.7,\n        \"max\": 23.7,\n        \"num_unique_values\": 220,\n        \"samples\": [\n          15.8,\n          16.0,\n          6.8\n        ],\n        \"semantic_type\": \"\",\n        \"description\": \"\"\n      }\n    },\n    {\n      \"column\": \"apparent_temperature_max (\\u00b0C)\",\n      \"properties\": {\n        \"dtype\": \"number\",\n        \"std\": 7.422921284280043,\n        \"min\": -6.0,\n        \"max\": 33.0,\n        \"num_unique_values\": 283,\n        \"samples\": [\n          13.0,\n          13.6,\n          10.5\n        ],\n        \"semantic_type\": \"\",\n        \"description\": \"\"\n      }\n    },\n    {\n      \"column\": \"apparent_temperature_min (\\u00b0C)\",\n      \"properties\": {\n        \"dtype\": \"number\",\n        \"std\": 6.306704680212314,\n        \"min\": -10.2,\n        \"max\": 19.9,\n        \"num_unique_values\": 249,\n        \"samples\": [\n          12.4,\n          5.8,\n          1.5\n        ],\n        \"semantic_type\": \"\",\n        \"description\": \"\"\n      }\n    },\n    {\n      \"column\": \"apparent_temperature_mean (\\u00b0C)\",\n      \"properties\": {\n        \"dtype\": \"number\",\n        \"std\": 6.751598785080234,\n        \"min\": -7.4,\n        \"max\": 24.9,\n        \"num_unique_values\": 265,\n        \"samples\": [\n          12.9,\n          18.1,\n          4.7\n        ],\n        \"semantic_type\": \"\",\n        \"description\": \"\"\n      }\n    },\n    {\n      \"column\": \"sunrise (iso8601)\",\n      \"properties\": {\n        \"dtype\": \"object\",\n        \"num_unique_values\": 851,\n        \"samples\": [\n          \"2012-01-06T09:05\",\n          \"2012-09-12T06:31\",\n          \"2013-08-20T05:54\"\n        ],\n        \"semantic_type\": \"\",\n        \"description\": \"\"\n      }\n    },\n    {\n      \"column\": \"sunset (iso8601)\",\n      \"properties\": {\n        \"dtype\": \"object\",\n        \"num_unique_values\": 851,\n        \"samples\": [\n          \"2012-01-06T17:07\",\n          \"2012-09-12T19:21\",\n          \"2013-08-20T20:13\"\n        ],\n        \"semantic_type\": \"\",\n        \"description\": \"\"\n      }\n    },\n    {\n      \"column\": \"daylight_duration (s)\",\n      \"properties\": {\n        \"dtype\": \"number\",\n        \"std\": 10985.49289967252,\n        \"min\": 28180.65,\n        \"max\": 59888.49,\n        \"num_unique_values\": 851,\n        \"samples\": [\n          28930.89,\n          46224.83,\n          51531.73\n        ],\n        \"semantic_type\": \"\",\n        \"description\": \"\"\n      }\n    },\n    {\n      \"column\": \"sunshine_duration (s)\",\n      \"properties\": {\n        \"dtype\": \"number\",\n        \"std\": 16011.448637954809,\n        \"min\": 0.0,\n        \"max\": 54491.79,\n        \"num_unique_values\": 765,\n        \"samples\": [\n          4017.65,\n          46480.95,\n          28194.01\n        ],\n        \"semantic_type\": \"\",\n        \"description\": \"\"\n      }\n    },\n    {\n      \"column\": \"precipitation_sum (mm)\",\n      \"properties\": {\n        \"dtype\": \"number\",\n        \"std\": 3.7210543379600103,\n        \"min\": 0.0,\n        \"max\": 33.6,\n        \"num_unique_values\": 118,\n        \"samples\": [\n          5.4,\n          14.3,\n          0.4\n        ],\n        \"semantic_type\": \"\",\n        \"description\": \"\"\n      }\n    },\n    {\n      \"column\": \"rain_sum (mm)\",\n      \"properties\": {\n        \"dtype\": \"number\",\n        \"std\": 3.7002834824213062,\n        \"min\": 0.0,\n        \"max\": 33.6,\n        \"num_unique_values\": 116,\n        \"samples\": [\n          6.7,\n          0.4,\n          8.1\n        ],\n        \"semantic_type\": \"\",\n        \"description\": \"\"\n      }\n    },\n    {\n      \"column\": \"precipitation_hours (h)\",\n      \"properties\": {\n        \"dtype\": \"number\",\n        \"std\": 5,\n        \"min\": 0,\n        \"max\": 24,\n        \"num_unique_values\": 24,\n        \"samples\": [\n          10,\n          9,\n          5\n        ],\n        \"semantic_type\": \"\",\n        \"description\": \"\"\n      }\n    },\n    {\n      \"column\": \"wind_speed_10m_max (km/h)\",\n      \"properties\": {\n        \"dtype\": \"number\",\n        \"std\": 8.101198137746138,\n        \"min\": 5.5,\n        \"max\": 53.6,\n        \"num_unique_values\": 286,\n        \"samples\": [\n          13.8,\n          30.1,\n          15.4\n        ],\n        \"semantic_type\": \"\",\n        \"description\": \"\"\n      }\n    },\n    {\n      \"column\": \"wind_direction_10m_dominant (\\u00b0)\",\n      \"properties\": {\n        \"dtype\": \"number\",\n        \"std\": 92,\n        \"min\": 1,\n        \"max\": 360,\n        \"num_unique_values\": 308,\n        \"samples\": [\n          279,\n          115,\n          278\n        ],\n        \"semantic_type\": \"\",\n        \"description\": \"\"\n      }\n    }\n  ]\n}"
            }
          },
          "metadata": {},
          "execution_count": 19
        }
      ]
    },
    {
      "cell_type": "code",
      "source": [],
      "metadata": {
        "id": "PeytY7OCZuZD"
      },
      "execution_count": null,
      "outputs": []
    },
    {
      "cell_type": "code",
      "source": [],
      "metadata": {
        "id": "N5xvxQb3Zub7"
      },
      "execution_count": null,
      "outputs": []
    }
  ]
}