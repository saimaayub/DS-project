{
  "cells": [
    {
      "cell_type": "markdown",
      "metadata": {
        "id": "view-in-github",
        "colab_type": "text"
      },
      "source": [
        "<a href=\"https://colab.research.google.com/github/saimaayub/DS-project/blob/main/HH_TO_Daily_Conversion_code.ipynb\" target=\"_parent\"><img src=\"https://colab.research.google.com/assets/colab-badge.svg\" alt=\"Open In Colab\"/></a>"
      ]
    },
    {
      "cell_type": "code",
      "source": [
        "from google.colab import drive\n",
        "import os\n",
        "import zipfile\n",
        "import pandas as pd\n",
        "\n",
        "# Step 1: Mount Google Drive\n",
        "drive.mount('/content/drive')\n",
        "\n",
        "# Step 2: Unzip the Partitioned Dataset Using `zipfile`\n",
        "zip_file_path = '/content/drive/MyDrive/Small-LCL-Data.zip'\n",
        "extract_to_path = '/content/drive/MyDrive/1LCLSmall-unzipped/'\n",
        "os.makedirs(extract_to_path, exist_ok=True)\n",
        "\n",
        "with zipfile.ZipFile(zip_file_path, 'r') as zip_ref:\n",
        "    zip_ref.extractall(extract_to_path)\n",
        "\n",
        "print(f\"Files extracted to: {extract_to_path}\")\n",
        "\n"
      ],
      "metadata": {
        "colab": {
          "base_uri": "https://localhost:8080/"
        },
        "id": "dq7-FApqwyYm",
        "outputId": "36eebabe-ccf3-41ff-9e4d-b740cb605ef2"
      },
      "execution_count": null,
      "outputs": [
        {
          "output_type": "stream",
          "name": "stdout",
          "text": [
            "Drive already mounted at /content/drive; to attempt to forcibly remount, call drive.mount(\"/content/drive\", force_remount=True).\n",
            "Files extracted to: /content/drive/MyDrive/1LCLSmall-unzipped/\n"
          ]
        }
      ]
    },
    {
      "cell_type": "code",
      "source": [
        "# List the contents of the extracted directory\n",
        "extracted_files = os.listdir(extract_to_path)\n",
        "print(f\"Contents of {extract_to_path}: {extracted_files}\")"
      ],
      "metadata": {
        "colab": {
          "base_uri": "https://localhost:8080/"
        },
        "id": "WAmD_fKdCLbO",
        "outputId": "0ac505b9-47d4-449f-9172-73e45c7f7257"
      },
      "execution_count": null,
      "outputs": [
        {
          "output_type": "stream",
          "name": "stdout",
          "text": [
            "Contents of /content/drive/MyDrive/1LCLSmall-unzipped/: ['Small LCL Data']\n"
          ]
        }
      ]
    },
    {
      "cell_type": "code",
      "source": [
        "# Path to the directory containing partitioned files\n",
        "partitioned_dir = os.path.join(extract_to_path, 'Small LCL Data')\n",
        "\n",
        "# List all files in the directory\n",
        "all_files = os.listdir(partitioned_dir)\n",
        "\n",
        "# Filter to include only CSV files\n",
        "csv_files = [f for f in all_files if f.endswith('.csv')]\n",
        "\n",
        "# Sort the files to ensure they are in the correct order\n",
        "csv_files.sort()\n",
        "\n",
        "# Select the first 50 files\n",
        "selected_files = csv_files[131:167]\n",
        "\n",
        "print(f\"Selected {len(selected_files)} files for processing.\")\n"
      ],
      "metadata": {
        "colab": {
          "base_uri": "https://localhost:8080/"
        },
        "id": "UbNtLjZuIdWS",
        "outputId": "2751fa5d-84a1-45f5-d1ec-ebe47c369b18"
      },
      "execution_count": null,
      "outputs": [
        {
          "output_type": "stream",
          "name": "stdout",
          "text": [
            "Selected 36 files for processing.\n"
          ]
        }
      ]
    },
    {
      "cell_type": "code",
      "source": [
        "# List all files in the directory\n",
        "all_files = os.listdir(partitioned_dir)\n",
        "\n",
        "# Filter to include only CSV files\n",
        "csv_files = [f for f in all_files if f.endswith('.csv')]\n",
        "\n",
        "# Sort the files to ensure they are in the correct order\n",
        "csv_files.sort()\n",
        "\n",
        "# Select the first 50 files\n",
        "selected_files = csv_files[131:167]\n",
        "\n",
        "print(f\"Selected {len(selected_files)} files for processing.\")\n"
      ],
      "metadata": {
        "colab": {
          "base_uri": "https://localhost:8080/"
        },
        "id": "lAxp1SXZCruW",
        "outputId": "048779c2-a34c-4749-837f-bb8342109015"
      },
      "execution_count": null,
      "outputs": [
        {
          "output_type": "stream",
          "name": "stdout",
          "text": [
            "Selected 36 files for processing.\n"
          ]
        }
      ]
    },
    {
      "cell_type": "code",
      "source": [
        "import pandas as pd\n",
        "\n",
        "# Inspect the columns of the first few files\n",
        "for file_name in selected_files[:10]:  # Check the first 10 files\n",
        "    file_path = os.path.join(partitioned_dir, file_name)\n",
        "    df = pd.read_csv(file_path)\n",
        "    print(f\"Columns in {file_name}: {df.columns}\")"
      ],
      "metadata": {
        "colab": {
          "base_uri": "https://localhost:8080/"
        },
        "id": "trBS0kdEFQuf",
        "outputId": "f9066166-7bf9-4e1b-9a2a-2ce972c210d7"
      },
      "execution_count": null,
      "outputs": [
        {
          "output_type": "stream",
          "name": "stdout",
          "text": [
            "Columns in LCL-June2015v2_66.csv: Index(['LCLid', 'stdorToU', 'DateTime', 'KWH/hh (per half hour) '], dtype='object')\n",
            "Columns in LCL-June2015v2_67.csv: Index(['LCLid', 'stdorToU', 'DateTime', 'KWH/hh (per half hour) '], dtype='object')\n",
            "Columns in LCL-June2015v2_68.csv: Index(['LCLid', 'stdorToU', 'DateTime', 'KWH/hh (per half hour) '], dtype='object')\n",
            "Columns in LCL-June2015v2_69.csv: Index(['LCLid', 'stdorToU', 'DateTime', 'KWH/hh (per half hour) '], dtype='object')\n",
            "Columns in LCL-June2015v2_7.csv: Index(['LCLid', 'stdorToU', 'DateTime', 'KWH/hh (per half hour) '], dtype='object')\n",
            "Columns in LCL-June2015v2_70.csv: Index(['LCLid', 'stdorToU', 'DateTime', 'KWH/hh (per half hour) '], dtype='object')\n",
            "Columns in LCL-June2015v2_71.csv: Index(['LCLid', 'stdorToU', 'DateTime', 'KWH/hh (per half hour) '], dtype='object')\n",
            "Columns in LCL-June2015v2_72.csv: Index(['LCLid', 'stdorToU', 'DateTime', 'KWH/hh (per half hour) '], dtype='object')\n",
            "Columns in LCL-June2015v2_73.csv: Index(['LCLid', 'stdorToU', 'DateTime', 'KWH/hh (per half hour) '], dtype='object')\n",
            "Columns in LCL-June2015v2_74.csv: Index(['LCLid', 'stdorToU', 'DateTime', 'KWH/hh (per half hour) '], dtype='object')\n"
          ]
        }
      ]
    },
    {
      "cell_type": "code",
      "source": [
        "# Initialize an empty list to store dataframes\n",
        "dataframes = []\n",
        "\n",
        "# Read each selected file and append to the list\n",
        "for file_name in selected_files:\n",
        "    file_path = os.path.join(partitioned_dir, file_name)\n",
        "    df = pd.read_csv(file_path)\n",
        "\n",
        "    # Inspect and rename the DateTime column if necessary\n",
        "    if 'DateTime' in df.columns:\n",
        "        df['DateTime'] = pd.to_datetime(df['DateTime'])\n",
        "    elif 'Date' in df.columns:  # Assuming 'Date' might be an alternative name\n",
        "        df['DateTime'] = pd.to_datetime(df['Date'])\n",
        "    else:\n",
        "        print(f\"No 'DateTime' or 'Date' column found in {file_name}\")\n",
        "        continue  # Skip files without the required column\n",
        "\n",
        "    dataframes.append(df)\n",
        "\n"
      ],
      "metadata": {
        "id": "XcVvL0LEF3hm"
      },
      "execution_count": null,
      "outputs": []
    },
    {
      "cell_type": "code",
      "source": [
        "# Concatenate all dataframes into a single dataframe\n",
        "merged_df = pd.concat(dataframes, ignore_index=True)\n",
        "print(f\"Merged dataframe shape: {merged_df.shape}\")\n",
        "\n",
        "# Set the 'DateTime' column as the index\n",
        "merged_df.set_index('DateTime', inplace=True)\n",
        "# Identify numeric columns\n",
        "numeric_columns = merged_df.select_dtypes(include='number').columns\n",
        "print(f\"Numeric columns: {numeric_columns}\")\n",
        "\n",
        "\n",
        "\n",
        "\n"
      ],
      "metadata": {
        "colab": {
          "base_uri": "https://localhost:8080/"
        },
        "id": "zIqXwSX-Gdgq",
        "outputId": "00d021d9-86e0-4af7-bedb-bfcad03f6f4b"
      },
      "execution_count": null,
      "outputs": [
        {
          "output_type": "stream",
          "name": "stdout",
          "text": [
            "Merged dataframe shape: (36000000, 4)\n",
            "Numeric columns: Index([], dtype='object')\n"
          ]
        }
      ]
    },
    {
      "cell_type": "code",
      "source": [
        "merged_df.head(100)"
      ],
      "metadata": {
        "colab": {
          "base_uri": "https://localhost:8080/",
          "height": 455
        },
        "id": "Vc1KNU7BEFGF",
        "outputId": "60b4d6d6-a016-4adf-94df-b876dc75ed69"
      },
      "execution_count": null,
      "outputs": [
        {
          "output_type": "execute_result",
          "data": {
            "text/plain": [
              "                         LCLid stdorToU KWH/hh (per half hour) \n",
              "DateTime                                                       \n",
              "2013-12-09 18:00:00  MAC002667      Std                  1.597 \n",
              "2013-12-09 18:30:00  MAC002667      Std                  1.409 \n",
              "2013-12-09 19:00:00  MAC002667      Std              1.6210001 \n",
              "2013-12-09 19:30:00  MAC002667      Std              1.3200001 \n",
              "2013-12-09 20:00:00  MAC002667      Std                   1.36 \n",
              "...                        ...      ...                     ...\n",
              "2013-12-11 17:30:00  MAC002667      Std              1.2690001 \n",
              "2013-12-11 18:00:00  MAC002667      Std                  1.609 \n",
              "2013-12-11 18:30:00  MAC002667      Std                  1.349 \n",
              "2013-12-11 19:00:00  MAC002667      Std                   1.28 \n",
              "2013-12-11 19:30:00  MAC002667      Std              1.2819999 \n",
              "\n",
              "[100 rows x 3 columns]"
            ],
            "text/html": [
              "\n",
              "  <div id=\"df-3af59f68-5c52-4f12-89e8-0e4b64b01cd3\" class=\"colab-df-container\">\n",
              "    <div>\n",
              "<style scoped>\n",
              "    .dataframe tbody tr th:only-of-type {\n",
              "        vertical-align: middle;\n",
              "    }\n",
              "\n",
              "    .dataframe tbody tr th {\n",
              "        vertical-align: top;\n",
              "    }\n",
              "\n",
              "    .dataframe thead th {\n",
              "        text-align: right;\n",
              "    }\n",
              "</style>\n",
              "<table border=\"1\" class=\"dataframe\">\n",
              "  <thead>\n",
              "    <tr style=\"text-align: right;\">\n",
              "      <th></th>\n",
              "      <th>LCLid</th>\n",
              "      <th>stdorToU</th>\n",
              "      <th>KWH/hh (per half hour)</th>\n",
              "    </tr>\n",
              "    <tr>\n",
              "      <th>DateTime</th>\n",
              "      <th></th>\n",
              "      <th></th>\n",
              "      <th></th>\n",
              "    </tr>\n",
              "  </thead>\n",
              "  <tbody>\n",
              "    <tr>\n",
              "      <th>2013-12-09 18:00:00</th>\n",
              "      <td>MAC002667</td>\n",
              "      <td>Std</td>\n",
              "      <td>1.597</td>\n",
              "    </tr>\n",
              "    <tr>\n",
              "      <th>2013-12-09 18:30:00</th>\n",
              "      <td>MAC002667</td>\n",
              "      <td>Std</td>\n",
              "      <td>1.409</td>\n",
              "    </tr>\n",
              "    <tr>\n",
              "      <th>2013-12-09 19:00:00</th>\n",
              "      <td>MAC002667</td>\n",
              "      <td>Std</td>\n",
              "      <td>1.6210001</td>\n",
              "    </tr>\n",
              "    <tr>\n",
              "      <th>2013-12-09 19:30:00</th>\n",
              "      <td>MAC002667</td>\n",
              "      <td>Std</td>\n",
              "      <td>1.3200001</td>\n",
              "    </tr>\n",
              "    <tr>\n",
              "      <th>2013-12-09 20:00:00</th>\n",
              "      <td>MAC002667</td>\n",
              "      <td>Std</td>\n",
              "      <td>1.36</td>\n",
              "    </tr>\n",
              "    <tr>\n",
              "      <th>...</th>\n",
              "      <td>...</td>\n",
              "      <td>...</td>\n",
              "      <td>...</td>\n",
              "    </tr>\n",
              "    <tr>\n",
              "      <th>2013-12-11 17:30:00</th>\n",
              "      <td>MAC002667</td>\n",
              "      <td>Std</td>\n",
              "      <td>1.2690001</td>\n",
              "    </tr>\n",
              "    <tr>\n",
              "      <th>2013-12-11 18:00:00</th>\n",
              "      <td>MAC002667</td>\n",
              "      <td>Std</td>\n",
              "      <td>1.609</td>\n",
              "    </tr>\n",
              "    <tr>\n",
              "      <th>2013-12-11 18:30:00</th>\n",
              "      <td>MAC002667</td>\n",
              "      <td>Std</td>\n",
              "      <td>1.349</td>\n",
              "    </tr>\n",
              "    <tr>\n",
              "      <th>2013-12-11 19:00:00</th>\n",
              "      <td>MAC002667</td>\n",
              "      <td>Std</td>\n",
              "      <td>1.28</td>\n",
              "    </tr>\n",
              "    <tr>\n",
              "      <th>2013-12-11 19:30:00</th>\n",
              "      <td>MAC002667</td>\n",
              "      <td>Std</td>\n",
              "      <td>1.2819999</td>\n",
              "    </tr>\n",
              "  </tbody>\n",
              "</table>\n",
              "<p>100 rows × 3 columns</p>\n",
              "</div>\n",
              "    <div class=\"colab-df-buttons\">\n",
              "\n",
              "  <div class=\"colab-df-container\">\n",
              "    <button class=\"colab-df-convert\" onclick=\"convertToInteractive('df-3af59f68-5c52-4f12-89e8-0e4b64b01cd3')\"\n",
              "            title=\"Convert this dataframe to an interactive table.\"\n",
              "            style=\"display:none;\">\n",
              "\n",
              "  <svg xmlns=\"http://www.w3.org/2000/svg\" height=\"24px\" viewBox=\"0 -960 960 960\">\n",
              "    <path d=\"M120-120v-720h720v720H120Zm60-500h600v-160H180v160Zm220 220h160v-160H400v160Zm0 220h160v-160H400v160ZM180-400h160v-160H180v160Zm440 0h160v-160H620v160ZM180-180h160v-160H180v160Zm440 0h160v-160H620v160Z\"/>\n",
              "  </svg>\n",
              "    </button>\n",
              "\n",
              "  <style>\n",
              "    .colab-df-container {\n",
              "      display:flex;\n",
              "      gap: 12px;\n",
              "    }\n",
              "\n",
              "    .colab-df-convert {\n",
              "      background-color: #E8F0FE;\n",
              "      border: none;\n",
              "      border-radius: 50%;\n",
              "      cursor: pointer;\n",
              "      display: none;\n",
              "      fill: #1967D2;\n",
              "      height: 32px;\n",
              "      padding: 0 0 0 0;\n",
              "      width: 32px;\n",
              "    }\n",
              "\n",
              "    .colab-df-convert:hover {\n",
              "      background-color: #E2EBFA;\n",
              "      box-shadow: 0px 1px 2px rgba(60, 64, 67, 0.3), 0px 1px 3px 1px rgba(60, 64, 67, 0.15);\n",
              "      fill: #174EA6;\n",
              "    }\n",
              "\n",
              "    .colab-df-buttons div {\n",
              "      margin-bottom: 4px;\n",
              "    }\n",
              "\n",
              "    [theme=dark] .colab-df-convert {\n",
              "      background-color: #3B4455;\n",
              "      fill: #D2E3FC;\n",
              "    }\n",
              "\n",
              "    [theme=dark] .colab-df-convert:hover {\n",
              "      background-color: #434B5C;\n",
              "      box-shadow: 0px 1px 3px 1px rgba(0, 0, 0, 0.15);\n",
              "      filter: drop-shadow(0px 1px 2px rgba(0, 0, 0, 0.3));\n",
              "      fill: #FFFFFF;\n",
              "    }\n",
              "  </style>\n",
              "\n",
              "    <script>\n",
              "      const buttonEl =\n",
              "        document.querySelector('#df-3af59f68-5c52-4f12-89e8-0e4b64b01cd3 button.colab-df-convert');\n",
              "      buttonEl.style.display =\n",
              "        google.colab.kernel.accessAllowed ? 'block' : 'none';\n",
              "\n",
              "      async function convertToInteractive(key) {\n",
              "        const element = document.querySelector('#df-3af59f68-5c52-4f12-89e8-0e4b64b01cd3');\n",
              "        const dataTable =\n",
              "          await google.colab.kernel.invokeFunction('convertToInteractive',\n",
              "                                                    [key], {});\n",
              "        if (!dataTable) return;\n",
              "\n",
              "        const docLinkHtml = 'Like what you see? Visit the ' +\n",
              "          '<a target=\"_blank\" href=https://colab.research.google.com/notebooks/data_table.ipynb>data table notebook</a>'\n",
              "          + ' to learn more about interactive tables.';\n",
              "        element.innerHTML = '';\n",
              "        dataTable['output_type'] = 'display_data';\n",
              "        await google.colab.output.renderOutput(dataTable, element);\n",
              "        const docLink = document.createElement('div');\n",
              "        docLink.innerHTML = docLinkHtml;\n",
              "        element.appendChild(docLink);\n",
              "      }\n",
              "    </script>\n",
              "  </div>\n",
              "\n",
              "\n",
              "<div id=\"df-aaedc289-c6e7-4383-bc60-c2bbfd5eb39b\">\n",
              "  <button class=\"colab-df-quickchart\" onclick=\"quickchart('df-aaedc289-c6e7-4383-bc60-c2bbfd5eb39b')\"\n",
              "            title=\"Suggest charts\"\n",
              "            style=\"display:none;\">\n",
              "\n",
              "<svg xmlns=\"http://www.w3.org/2000/svg\" height=\"24px\"viewBox=\"0 0 24 24\"\n",
              "     width=\"24px\">\n",
              "    <g>\n",
              "        <path d=\"M19 3H5c-1.1 0-2 .9-2 2v14c0 1.1.9 2 2 2h14c1.1 0 2-.9 2-2V5c0-1.1-.9-2-2-2zM9 17H7v-7h2v7zm4 0h-2V7h2v10zm4 0h-2v-4h2v4z\"/>\n",
              "    </g>\n",
              "</svg>\n",
              "  </button>\n",
              "\n",
              "<style>\n",
              "  .colab-df-quickchart {\n",
              "      --bg-color: #E8F0FE;\n",
              "      --fill-color: #1967D2;\n",
              "      --hover-bg-color: #E2EBFA;\n",
              "      --hover-fill-color: #174EA6;\n",
              "      --disabled-fill-color: #AAA;\n",
              "      --disabled-bg-color: #DDD;\n",
              "  }\n",
              "\n",
              "  [theme=dark] .colab-df-quickchart {\n",
              "      --bg-color: #3B4455;\n",
              "      --fill-color: #D2E3FC;\n",
              "      --hover-bg-color: #434B5C;\n",
              "      --hover-fill-color: #FFFFFF;\n",
              "      --disabled-bg-color: #3B4455;\n",
              "      --disabled-fill-color: #666;\n",
              "  }\n",
              "\n",
              "  .colab-df-quickchart {\n",
              "    background-color: var(--bg-color);\n",
              "    border: none;\n",
              "    border-radius: 50%;\n",
              "    cursor: pointer;\n",
              "    display: none;\n",
              "    fill: var(--fill-color);\n",
              "    height: 32px;\n",
              "    padding: 0;\n",
              "    width: 32px;\n",
              "  }\n",
              "\n",
              "  .colab-df-quickchart:hover {\n",
              "    background-color: var(--hover-bg-color);\n",
              "    box-shadow: 0 1px 2px rgba(60, 64, 67, 0.3), 0 1px 3px 1px rgba(60, 64, 67, 0.15);\n",
              "    fill: var(--button-hover-fill-color);\n",
              "  }\n",
              "\n",
              "  .colab-df-quickchart-complete:disabled,\n",
              "  .colab-df-quickchart-complete:disabled:hover {\n",
              "    background-color: var(--disabled-bg-color);\n",
              "    fill: var(--disabled-fill-color);\n",
              "    box-shadow: none;\n",
              "  }\n",
              "\n",
              "  .colab-df-spinner {\n",
              "    border: 2px solid var(--fill-color);\n",
              "    border-color: transparent;\n",
              "    border-bottom-color: var(--fill-color);\n",
              "    animation:\n",
              "      spin 1s steps(1) infinite;\n",
              "  }\n",
              "\n",
              "  @keyframes spin {\n",
              "    0% {\n",
              "      border-color: transparent;\n",
              "      border-bottom-color: var(--fill-color);\n",
              "      border-left-color: var(--fill-color);\n",
              "    }\n",
              "    20% {\n",
              "      border-color: transparent;\n",
              "      border-left-color: var(--fill-color);\n",
              "      border-top-color: var(--fill-color);\n",
              "    }\n",
              "    30% {\n",
              "      border-color: transparent;\n",
              "      border-left-color: var(--fill-color);\n",
              "      border-top-color: var(--fill-color);\n",
              "      border-right-color: var(--fill-color);\n",
              "    }\n",
              "    40% {\n",
              "      border-color: transparent;\n",
              "      border-right-color: var(--fill-color);\n",
              "      border-top-color: var(--fill-color);\n",
              "    }\n",
              "    60% {\n",
              "      border-color: transparent;\n",
              "      border-right-color: var(--fill-color);\n",
              "    }\n",
              "    80% {\n",
              "      border-color: transparent;\n",
              "      border-right-color: var(--fill-color);\n",
              "      border-bottom-color: var(--fill-color);\n",
              "    }\n",
              "    90% {\n",
              "      border-color: transparent;\n",
              "      border-bottom-color: var(--fill-color);\n",
              "    }\n",
              "  }\n",
              "</style>\n",
              "\n",
              "  <script>\n",
              "    async function quickchart(key) {\n",
              "      const quickchartButtonEl =\n",
              "        document.querySelector('#' + key + ' button');\n",
              "      quickchartButtonEl.disabled = true;  // To prevent multiple clicks.\n",
              "      quickchartButtonEl.classList.add('colab-df-spinner');\n",
              "      try {\n",
              "        const charts = await google.colab.kernel.invokeFunction(\n",
              "            'suggestCharts', [key], {});\n",
              "      } catch (error) {\n",
              "        console.error('Error during call to suggestCharts:', error);\n",
              "      }\n",
              "      quickchartButtonEl.classList.remove('colab-df-spinner');\n",
              "      quickchartButtonEl.classList.add('colab-df-quickchart-complete');\n",
              "    }\n",
              "    (() => {\n",
              "      let quickchartButtonEl =\n",
              "        document.querySelector('#df-aaedc289-c6e7-4383-bc60-c2bbfd5eb39b button');\n",
              "      quickchartButtonEl.style.display =\n",
              "        google.colab.kernel.accessAllowed ? 'block' : 'none';\n",
              "    })();\n",
              "  </script>\n",
              "</div>\n",
              "\n",
              "    </div>\n",
              "  </div>\n"
            ],
            "application/vnd.google.colaboratory.intrinsic+json": {
              "type": "dataframe",
              "variable_name": "merged_df"
            }
          },
          "metadata": {},
          "execution_count": 21
        }
      ]
    },
    {
      "cell_type": "code",
      "source": [
        "# Step 1: Verify column names\n",
        "print(\"Column names in merged_df:\")\n",
        "print(merged_df.columns)"
      ],
      "metadata": {
        "colab": {
          "base_uri": "https://localhost:8080/"
        },
        "id": "dIvWAjuPBnw9",
        "outputId": "c55e43d5-46df-4221-ef90-20875052a041"
      },
      "execution_count": null,
      "outputs": [
        {
          "output_type": "stream",
          "name": "stdout",
          "text": [
            "Column names in merged_df:\n",
            "Index(['LCLid', 'stdorToU', 'KWH/hh (per half hour) '], dtype='object')\n"
          ]
        }
      ]
    },
    {
      "cell_type": "code",
      "source": [
        "print(merged_df.columns)"
      ],
      "metadata": {
        "colab": {
          "base_uri": "https://localhost:8080/"
        },
        "id": "WEEk8C-hINrC",
        "outputId": "3de515fe-43b0-42c7-8d55-50ddc4cdd527"
      },
      "execution_count": null,
      "outputs": [
        {
          "output_type": "stream",
          "name": "stdout",
          "text": [
            "Index(['LCLid', 'stdorToU', 'KWH/hh (per half hour) '], dtype='object')\n"
          ]
        }
      ]
    },
    {
      "cell_type": "code",
      "source": [
        "# Step 1: Reset the index to make 'DateTime' a column\n",
        "merged_df.reset_index(inplace=True)\n",
        "\n",
        "# Step 2: Convert 'KWH/hh (per half hour)' column to numeric if it is not already\n",
        "merged_df['KWH/hh (per half hour) '] = pd.to_numeric(merged_df['KWH/hh (per half hour) '], errors='coerce')\n",
        "\n",
        "# Step 3: Group by household and date, then sum the kWh/hh values for each day\n",
        "merged_df['Date'] = merged_df['DateTime'].dt.date\n",
        "daily_household_data = merged_df.groupby(['LCLid', 'Date'])['KWH/hh (per half hour) '].sum().reset_index()\n",
        "\n",
        "# Step 4: Calculate the average kWh/hh across all households for each day\n",
        "daily_avg_data = daily_household_data.groupby('Date')['KWH/hh (per half hour) '].mean().reset_index()\n",
        "\n",
        "# Step 5: Rename columns for clarity\n",
        "daily_avg_data.columns = ['Date', 'Average KWH per Day']\n",
        "\n",
        "# Step 6: Display the first few rows of the final daily data\n",
        "print(daily_avg_data.head())\n",
        "\n"
      ],
      "metadata": {
        "id": "ABFH3E5b9ccZ",
        "colab": {
          "base_uri": "https://localhost:8080/"
        },
        "outputId": "12b69822-7e88-48e0-fdef-e39e96a4fc17"
      },
      "execution_count": null,
      "outputs": [
        {
          "output_type": "stream",
          "name": "stdout",
          "text": [
            "         Date  Average KWH per Day\n",
            "0  2011-12-01             8.756714\n",
            "1  2011-12-02            10.429000\n",
            "2  2011-12-03            12.534500\n",
            "3  2011-12-04            15.741583\n",
            "4  2011-12-05            11.531800\n"
          ]
        }
      ]
    },
    {
      "cell_type": "code",
      "source": [
        "# Step 7: Merge the First 50 Files and Convert to Daily Frequency\n",
        "#dataframes = []\n",
        "#for file_name in selected_files:\n",
        " #   file_path = os.path.join(partitioned_dir, file_name)\n",
        "  #  merged_df = pd.read_csv(file_path)\n",
        "#\n",
        "    # Inspect and rename the DateTime column if necessary\n",
        " #   if 'DateTime' in merged_df.columns:\n",
        "  #      merged_df['DateTime'] = pd.to_datetime(merged_df['DateTime'])\n",
        "   # elif 'Date' in merged_df.columns:  # Assuming 'Date' might be an alternative name\n",
        "    #    merged_df['DateTime'] = pd.to_datetime(df['Date'])\n",
        "    #else:\n",
        "     #   print(f\"No 'DateTime' or 'Date' column found in {file_name}\")\n",
        "      #  continue  # Skip files without the required column\n",
        "\n",
        "    #dataframes.append(merged_df)"
      ],
      "metadata": {
        "id": "Hp5_mGQqEn08"
      },
      "execution_count": null,
      "outputs": []
    },
    {
      "cell_type": "code",
      "source": [
        "#merged_df.head(1000)#"
      ],
      "metadata": {
        "id": "pQH8NzVjLGec"
      },
      "execution_count": null,
      "outputs": []
    },
    {
      "cell_type": "code",
      "source": [
        "# Check the data types of columns\n",
        "#print(\"Data types of columns before conversion:\")\n",
        "#print(merged_df.dtypes)"
      ],
      "metadata": {
        "colab": {
          "base_uri": "https://localhost:8080/"
        },
        "id": "gI3wLI-9NR3N",
        "outputId": "c182d42d-001d-4091-a89e-f6e929432d27"
      },
      "execution_count": null,
      "outputs": [
        {
          "output_type": "stream",
          "name": "stdout",
          "text": [
            "Data types of columns before conversion:\n",
            "LCLid                              object\n",
            "stdorToU                           object\n",
            "DateTime                   datetime64[ns]\n",
            "KWH/hh (per half hour)             object\n",
            "dtype: object\n"
          ]
        }
      ]
    },
    {
      "cell_type": "code",
      "source": [
        "# Step 1: Verify column names\n",
        "#print(\"Column names in merged_df:\")\n",
        "#print(merged_df.columns)\n",
        "\n",
        "# Step 2: Remove any extra spaces from column names (if any)\n",
        "#merged_df.columns = merged_df.columns.str.strip()\n",
        "\n",
        "# Verify again after stripping\n",
        "#print(\"Column names in merged_df after stripping:\")\n",
        "#print(merged_df.columns)\n",
        "\n",
        "# Step 3: Convert 'KWH/hh (per half hour)' column to numeric if it is not already\n",
        "#merged_df['KWH/hh (per half hour)'] = pd.to_numeric(merged_df['KWH/hh (per half hour)'], errors='coerce')\n",
        "\n",
        "# Step 4: Group by day and calculate the mean of kWh/hh for each day\n",
        "#daily_data = merged_df.groupby(merged_df['DateTime'].dt.date)['KWH/hh (per half hour)'].mean().reset_index()\n",
        "\n",
        "# Rename the columns for better readability\n",
        "#daily_data.columns = ['Date', 'Average KWH per Day']\n",
        "\n",
        "# Print the first few rows of daily_data for verification\n",
        "#print(daily_data.head(700))\n"
      ],
      "metadata": {
        "colab": {
          "base_uri": "https://localhost:8080/"
        },
        "id": "qnN6e-fpbe99",
        "outputId": "eeba3065-42b9-4f3c-8a57-17c56fed0143"
      },
      "execution_count": null,
      "outputs": [
        {
          "output_type": "stream",
          "name": "stdout",
          "text": [
            "Column names in merged_df:\n",
            "Index(['LCLid', 'stdorToU', 'DateTime', 'KWH/hh (per half hour) '], dtype='object')\n",
            "Column names in merged_df after stripping:\n",
            "Index(['LCLid', 'stdorToU', 'DateTime', 'KWH/hh (per half hour)'], dtype='object')\n",
            "           Date  Average KWH per Day\n",
            "0    2012-05-18             0.177275\n",
            "1    2012-05-19             0.177462\n",
            "2    2012-05-20             0.189562\n",
            "3    2012-05-21             0.229199\n",
            "4    2012-05-22             0.170351\n",
            "..          ...                  ...\n",
            "647  2014-02-24             0.167015\n",
            "648  2014-02-25             0.163669\n",
            "649  2014-02-26             0.164427\n",
            "650  2014-02-27             0.160794\n",
            "651  2014-02-28             0.133241\n",
            "\n",
            "[652 rows x 2 columns]\n"
          ]
        }
      ]
    },
    {
      "cell_type": "code",
      "source": [
        "# Reset the index to make 'DateTime' a column again\n",
        "daily_avg_data.reset_index(inplace=True)\n",
        "\n",
        "print(f\"Daily data shape: {daily_avg_data.shape}\")\n",
        "\n",
        "# Path to save the new CSV file\n",
        "daily_avg_csv_file_path = '/content/drive/MyDrive/131AvgDailyData.csv'\n",
        "\n",
        "# Save the daily data to a new CSV file\n",
        "daily_avg_data.to_csv(daily_avg_csv_file_path, index=False)\n",
        "\n",
        "print(f\"Daily data saved to: {daily_avg_csv_file_path}\")"
      ],
      "metadata": {
        "colab": {
          "base_uri": "https://localhost:8080/"
        },
        "id": "ZQ8wL-xdb6VH",
        "outputId": "ab88b4ee-c330-4222-acba-68964387fd72"
      },
      "execution_count": null,
      "outputs": [
        {
          "output_type": "stream",
          "name": "stdout",
          "text": [
            "Daily data shape: (821, 3)\n",
            "Daily data saved to: /content/drive/MyDrive/131AvgDailyData.csv\n"
          ]
        }
      ]
    },
    {
      "cell_type": "code",
      "source": [
        "daily_avg_data.head(1000)"
      ],
      "metadata": {
        "colab": {
          "base_uri": "https://localhost:8080/",
          "height": 423
        },
        "id": "C2u1qCX5EDmD",
        "outputId": "4a0910ff-0718-4089-a0d9-7848b4391233"
      },
      "execution_count": null,
      "outputs": [
        {
          "output_type": "execute_result",
          "data": {
            "text/plain": [
              "     index        Date  Average KWH per Day\n",
              "0        0  2011-12-01             8.756714\n",
              "1        1  2011-12-02            10.429000\n",
              "2        2  2011-12-03            12.534500\n",
              "3        3  2011-12-04            15.741583\n",
              "4        4  2011-12-05            11.531800\n",
              "..     ...         ...                  ...\n",
              "816    816  2014-02-24            11.090040\n",
              "817    817  2014-02-25            11.000133\n",
              "818    818  2014-02-26            10.696557\n",
              "819    819  2014-02-27            11.000433\n",
              "820    820  2014-02-28             0.383722\n",
              "\n",
              "[821 rows x 3 columns]"
            ],
            "text/html": [
              "\n",
              "  <div id=\"df-044ee6d9-70c8-4a13-9cf9-2273171151a9\" class=\"colab-df-container\">\n",
              "    <div>\n",
              "<style scoped>\n",
              "    .dataframe tbody tr th:only-of-type {\n",
              "        vertical-align: middle;\n",
              "    }\n",
              "\n",
              "    .dataframe tbody tr th {\n",
              "        vertical-align: top;\n",
              "    }\n",
              "\n",
              "    .dataframe thead th {\n",
              "        text-align: right;\n",
              "    }\n",
              "</style>\n",
              "<table border=\"1\" class=\"dataframe\">\n",
              "  <thead>\n",
              "    <tr style=\"text-align: right;\">\n",
              "      <th></th>\n",
              "      <th>index</th>\n",
              "      <th>Date</th>\n",
              "      <th>Average KWH per Day</th>\n",
              "    </tr>\n",
              "  </thead>\n",
              "  <tbody>\n",
              "    <tr>\n",
              "      <th>0</th>\n",
              "      <td>0</td>\n",
              "      <td>2011-12-01</td>\n",
              "      <td>8.756714</td>\n",
              "    </tr>\n",
              "    <tr>\n",
              "      <th>1</th>\n",
              "      <td>1</td>\n",
              "      <td>2011-12-02</td>\n",
              "      <td>10.429000</td>\n",
              "    </tr>\n",
              "    <tr>\n",
              "      <th>2</th>\n",
              "      <td>2</td>\n",
              "      <td>2011-12-03</td>\n",
              "      <td>12.534500</td>\n",
              "    </tr>\n",
              "    <tr>\n",
              "      <th>3</th>\n",
              "      <td>3</td>\n",
              "      <td>2011-12-04</td>\n",
              "      <td>15.741583</td>\n",
              "    </tr>\n",
              "    <tr>\n",
              "      <th>4</th>\n",
              "      <td>4</td>\n",
              "      <td>2011-12-05</td>\n",
              "      <td>11.531800</td>\n",
              "    </tr>\n",
              "    <tr>\n",
              "      <th>...</th>\n",
              "      <td>...</td>\n",
              "      <td>...</td>\n",
              "      <td>...</td>\n",
              "    </tr>\n",
              "    <tr>\n",
              "      <th>816</th>\n",
              "      <td>816</td>\n",
              "      <td>2014-02-24</td>\n",
              "      <td>11.090040</td>\n",
              "    </tr>\n",
              "    <tr>\n",
              "      <th>817</th>\n",
              "      <td>817</td>\n",
              "      <td>2014-02-25</td>\n",
              "      <td>11.000133</td>\n",
              "    </tr>\n",
              "    <tr>\n",
              "      <th>818</th>\n",
              "      <td>818</td>\n",
              "      <td>2014-02-26</td>\n",
              "      <td>10.696557</td>\n",
              "    </tr>\n",
              "    <tr>\n",
              "      <th>819</th>\n",
              "      <td>819</td>\n",
              "      <td>2014-02-27</td>\n",
              "      <td>11.000433</td>\n",
              "    </tr>\n",
              "    <tr>\n",
              "      <th>820</th>\n",
              "      <td>820</td>\n",
              "      <td>2014-02-28</td>\n",
              "      <td>0.383722</td>\n",
              "    </tr>\n",
              "  </tbody>\n",
              "</table>\n",
              "<p>821 rows × 3 columns</p>\n",
              "</div>\n",
              "    <div class=\"colab-df-buttons\">\n",
              "\n",
              "  <div class=\"colab-df-container\">\n",
              "    <button class=\"colab-df-convert\" onclick=\"convertToInteractive('df-044ee6d9-70c8-4a13-9cf9-2273171151a9')\"\n",
              "            title=\"Convert this dataframe to an interactive table.\"\n",
              "            style=\"display:none;\">\n",
              "\n",
              "  <svg xmlns=\"http://www.w3.org/2000/svg\" height=\"24px\" viewBox=\"0 -960 960 960\">\n",
              "    <path d=\"M120-120v-720h720v720H120Zm60-500h600v-160H180v160Zm220 220h160v-160H400v160Zm0 220h160v-160H400v160ZM180-400h160v-160H180v160Zm440 0h160v-160H620v160ZM180-180h160v-160H180v160Zm440 0h160v-160H620v160Z\"/>\n",
              "  </svg>\n",
              "    </button>\n",
              "\n",
              "  <style>\n",
              "    .colab-df-container {\n",
              "      display:flex;\n",
              "      gap: 12px;\n",
              "    }\n",
              "\n",
              "    .colab-df-convert {\n",
              "      background-color: #E8F0FE;\n",
              "      border: none;\n",
              "      border-radius: 50%;\n",
              "      cursor: pointer;\n",
              "      display: none;\n",
              "      fill: #1967D2;\n",
              "      height: 32px;\n",
              "      padding: 0 0 0 0;\n",
              "      width: 32px;\n",
              "    }\n",
              "\n",
              "    .colab-df-convert:hover {\n",
              "      background-color: #E2EBFA;\n",
              "      box-shadow: 0px 1px 2px rgba(60, 64, 67, 0.3), 0px 1px 3px 1px rgba(60, 64, 67, 0.15);\n",
              "      fill: #174EA6;\n",
              "    }\n",
              "\n",
              "    .colab-df-buttons div {\n",
              "      margin-bottom: 4px;\n",
              "    }\n",
              "\n",
              "    [theme=dark] .colab-df-convert {\n",
              "      background-color: #3B4455;\n",
              "      fill: #D2E3FC;\n",
              "    }\n",
              "\n",
              "    [theme=dark] .colab-df-convert:hover {\n",
              "      background-color: #434B5C;\n",
              "      box-shadow: 0px 1px 3px 1px rgba(0, 0, 0, 0.15);\n",
              "      filter: drop-shadow(0px 1px 2px rgba(0, 0, 0, 0.3));\n",
              "      fill: #FFFFFF;\n",
              "    }\n",
              "  </style>\n",
              "\n",
              "    <script>\n",
              "      const buttonEl =\n",
              "        document.querySelector('#df-044ee6d9-70c8-4a13-9cf9-2273171151a9 button.colab-df-convert');\n",
              "      buttonEl.style.display =\n",
              "        google.colab.kernel.accessAllowed ? 'block' : 'none';\n",
              "\n",
              "      async function convertToInteractive(key) {\n",
              "        const element = document.querySelector('#df-044ee6d9-70c8-4a13-9cf9-2273171151a9');\n",
              "        const dataTable =\n",
              "          await google.colab.kernel.invokeFunction('convertToInteractive',\n",
              "                                                    [key], {});\n",
              "        if (!dataTable) return;\n",
              "\n",
              "        const docLinkHtml = 'Like what you see? Visit the ' +\n",
              "          '<a target=\"_blank\" href=https://colab.research.google.com/notebooks/data_table.ipynb>data table notebook</a>'\n",
              "          + ' to learn more about interactive tables.';\n",
              "        element.innerHTML = '';\n",
              "        dataTable['output_type'] = 'display_data';\n",
              "        await google.colab.output.renderOutput(dataTable, element);\n",
              "        const docLink = document.createElement('div');\n",
              "        docLink.innerHTML = docLinkHtml;\n",
              "        element.appendChild(docLink);\n",
              "      }\n",
              "    </script>\n",
              "  </div>\n",
              "\n",
              "\n",
              "<div id=\"df-adc9a414-e935-406c-8c1d-f2f1634c3c8b\">\n",
              "  <button class=\"colab-df-quickchart\" onclick=\"quickchart('df-adc9a414-e935-406c-8c1d-f2f1634c3c8b')\"\n",
              "            title=\"Suggest charts\"\n",
              "            style=\"display:none;\">\n",
              "\n",
              "<svg xmlns=\"http://www.w3.org/2000/svg\" height=\"24px\"viewBox=\"0 0 24 24\"\n",
              "     width=\"24px\">\n",
              "    <g>\n",
              "        <path d=\"M19 3H5c-1.1 0-2 .9-2 2v14c0 1.1.9 2 2 2h14c1.1 0 2-.9 2-2V5c0-1.1-.9-2-2-2zM9 17H7v-7h2v7zm4 0h-2V7h2v10zm4 0h-2v-4h2v4z\"/>\n",
              "    </g>\n",
              "</svg>\n",
              "  </button>\n",
              "\n",
              "<style>\n",
              "  .colab-df-quickchart {\n",
              "      --bg-color: #E8F0FE;\n",
              "      --fill-color: #1967D2;\n",
              "      --hover-bg-color: #E2EBFA;\n",
              "      --hover-fill-color: #174EA6;\n",
              "      --disabled-fill-color: #AAA;\n",
              "      --disabled-bg-color: #DDD;\n",
              "  }\n",
              "\n",
              "  [theme=dark] .colab-df-quickchart {\n",
              "      --bg-color: #3B4455;\n",
              "      --fill-color: #D2E3FC;\n",
              "      --hover-bg-color: #434B5C;\n",
              "      --hover-fill-color: #FFFFFF;\n",
              "      --disabled-bg-color: #3B4455;\n",
              "      --disabled-fill-color: #666;\n",
              "  }\n",
              "\n",
              "  .colab-df-quickchart {\n",
              "    background-color: var(--bg-color);\n",
              "    border: none;\n",
              "    border-radius: 50%;\n",
              "    cursor: pointer;\n",
              "    display: none;\n",
              "    fill: var(--fill-color);\n",
              "    height: 32px;\n",
              "    padding: 0;\n",
              "    width: 32px;\n",
              "  }\n",
              "\n",
              "  .colab-df-quickchart:hover {\n",
              "    background-color: var(--hover-bg-color);\n",
              "    box-shadow: 0 1px 2px rgba(60, 64, 67, 0.3), 0 1px 3px 1px rgba(60, 64, 67, 0.15);\n",
              "    fill: var(--button-hover-fill-color);\n",
              "  }\n",
              "\n",
              "  .colab-df-quickchart-complete:disabled,\n",
              "  .colab-df-quickchart-complete:disabled:hover {\n",
              "    background-color: var(--disabled-bg-color);\n",
              "    fill: var(--disabled-fill-color);\n",
              "    box-shadow: none;\n",
              "  }\n",
              "\n",
              "  .colab-df-spinner {\n",
              "    border: 2px solid var(--fill-color);\n",
              "    border-color: transparent;\n",
              "    border-bottom-color: var(--fill-color);\n",
              "    animation:\n",
              "      spin 1s steps(1) infinite;\n",
              "  }\n",
              "\n",
              "  @keyframes spin {\n",
              "    0% {\n",
              "      border-color: transparent;\n",
              "      border-bottom-color: var(--fill-color);\n",
              "      border-left-color: var(--fill-color);\n",
              "    }\n",
              "    20% {\n",
              "      border-color: transparent;\n",
              "      border-left-color: var(--fill-color);\n",
              "      border-top-color: var(--fill-color);\n",
              "    }\n",
              "    30% {\n",
              "      border-color: transparent;\n",
              "      border-left-color: var(--fill-color);\n",
              "      border-top-color: var(--fill-color);\n",
              "      border-right-color: var(--fill-color);\n",
              "    }\n",
              "    40% {\n",
              "      border-color: transparent;\n",
              "      border-right-color: var(--fill-color);\n",
              "      border-top-color: var(--fill-color);\n",
              "    }\n",
              "    60% {\n",
              "      border-color: transparent;\n",
              "      border-right-color: var(--fill-color);\n",
              "    }\n",
              "    80% {\n",
              "      border-color: transparent;\n",
              "      border-right-color: var(--fill-color);\n",
              "      border-bottom-color: var(--fill-color);\n",
              "    }\n",
              "    90% {\n",
              "      border-color: transparent;\n",
              "      border-bottom-color: var(--fill-color);\n",
              "    }\n",
              "  }\n",
              "</style>\n",
              "\n",
              "  <script>\n",
              "    async function quickchart(key) {\n",
              "      const quickchartButtonEl =\n",
              "        document.querySelector('#' + key + ' button');\n",
              "      quickchartButtonEl.disabled = true;  // To prevent multiple clicks.\n",
              "      quickchartButtonEl.classList.add('colab-df-spinner');\n",
              "      try {\n",
              "        const charts = await google.colab.kernel.invokeFunction(\n",
              "            'suggestCharts', [key], {});\n",
              "      } catch (error) {\n",
              "        console.error('Error during call to suggestCharts:', error);\n",
              "      }\n",
              "      quickchartButtonEl.classList.remove('colab-df-spinner');\n",
              "      quickchartButtonEl.classList.add('colab-df-quickchart-complete');\n",
              "    }\n",
              "    (() => {\n",
              "      let quickchartButtonEl =\n",
              "        document.querySelector('#df-adc9a414-e935-406c-8c1d-f2f1634c3c8b button');\n",
              "      quickchartButtonEl.style.display =\n",
              "        google.colab.kernel.accessAllowed ? 'block' : 'none';\n",
              "    })();\n",
              "  </script>\n",
              "</div>\n",
              "\n",
              "    </div>\n",
              "  </div>\n"
            ],
            "application/vnd.google.colaboratory.intrinsic+json": {
              "type": "dataframe",
              "variable_name": "daily_avg_data",
              "summary": "{\n  \"name\": \"daily_avg_data\",\n  \"rows\": 821,\n  \"fields\": [\n    {\n      \"column\": \"index\",\n      \"properties\": {\n        \"dtype\": \"number\",\n        \"std\": 237,\n        \"min\": 0,\n        \"max\": 820,\n        \"num_unique_values\": 821,\n        \"samples\": [\n          609,\n          174,\n          67\n        ],\n        \"semantic_type\": \"\",\n        \"description\": \"\"\n      }\n    },\n    {\n      \"column\": \"Date\",\n      \"properties\": {\n        \"dtype\": \"date\",\n        \"min\": \"2011-12-01\",\n        \"max\": \"2014-02-28\",\n        \"num_unique_values\": 821,\n        \"samples\": [\n          \"2013-08-01\",\n          \"2012-05-23\",\n          \"2012-02-06\"\n        ],\n        \"semantic_type\": \"\",\n        \"description\": \"\"\n      }\n    },\n    {\n      \"column\": \"Average KWH per Day\",\n      \"properties\": {\n        \"dtype\": \"number\",\n        \"std\": 2.269869691497131,\n        \"min\": 0.38372180971193415,\n        \"max\": 17.056263163157894,\n        \"num_unique_values\": 821,\n        \"samples\": [\n          8.321728125078126,\n          8.21539830677966,\n          14.435842094736843\n        ],\n        \"semantic_type\": \"\",\n        \"description\": \"\"\n      }\n    }\n  ]\n}"
            }
          },
          "metadata": {},
          "execution_count": 26
        }
      ]
    },
    {
      "cell_type": "code",
      "source": [
        "# Step 1: Mount Google Drive\n",
        "from google.colab import drive\n",
        "drive.mount('/content/drive')\n",
        "\n",
        "# Step 2: Import necessary libraries\n",
        "import os\n",
        "import pandas as pd\n",
        "\n",
        "# Step 3: Define the paths to the CSV files\n",
        "csv_file_paths = [\n",
        "    '/content/drive/MyDrive/50AvgDailyData.csv',\n",
        "    '/content/drive/MyDrive/51AvgDailyData.csv',\n",
        "    '/content/drive/MyDrive/101AvgDailyData.csv',\n",
        "    '/content/drive/MyDrive/131AvgDailyData.csv'\n",
        "]\n",
        "\n",
        "# Step 4: Load each CSV file into a DataFrame and store them in a list\n",
        "dataframes = []\n",
        "for file_path in csv_file_paths:\n",
        "    df = pd.read_csv(file_path)\n",
        "    dataframes.append(df)\n",
        "\n",
        "# Step 5: Concatenate all DataFrames into a single DataFrame\n",
        "merged_df1 = pd.concat(dataframes, ignore_index=True)\n",
        "\n"
      ],
      "metadata": {
        "colab": {
          "base_uri": "https://localhost:8080/"
        },
        "id": "IOQfX8eGW02s",
        "outputId": "767661c9-9787-44c9-8568-baa98ca6db4b"
      },
      "execution_count": null,
      "outputs": [
        {
          "output_type": "stream",
          "name": "stdout",
          "text": [
            "Drive already mounted at /content/drive; to attempt to forcibly remount, call drive.mount(\"/content/drive\", force_remount=True).\n"
          ]
        }
      ]
    },
    {
      "cell_type": "code",
      "source": [
        "merged_df1.head()"
      ],
      "metadata": {
        "colab": {
          "base_uri": "https://localhost:8080/",
          "height": 206
        },
        "id": "yYUGHjscXDhW",
        "outputId": "a590788c-a3da-4c67-ca40-2665e604ce99"
      },
      "execution_count": null,
      "outputs": [
        {
          "output_type": "execute_result",
          "data": {
            "text/plain": [
              "   level_0  index        Date  Average KWH per Day\n",
              "0      0.0      0  2011-11-23             4.327500\n",
              "1      1.0      1  2011-11-24             6.111750\n",
              "2      2.0      2  2011-11-25             6.886333\n",
              "3      3.0      3  2011-11-26             7.709500\n",
              "4      4.0      4  2011-11-27             7.813500"
            ],
            "text/html": [
              "\n",
              "  <div id=\"df-df8f68af-64b6-4044-b55f-63cf0d03e9f9\" class=\"colab-df-container\">\n",
              "    <div>\n",
              "<style scoped>\n",
              "    .dataframe tbody tr th:only-of-type {\n",
              "        vertical-align: middle;\n",
              "    }\n",
              "\n",
              "    .dataframe tbody tr th {\n",
              "        vertical-align: top;\n",
              "    }\n",
              "\n",
              "    .dataframe thead th {\n",
              "        text-align: right;\n",
              "    }\n",
              "</style>\n",
              "<table border=\"1\" class=\"dataframe\">\n",
              "  <thead>\n",
              "    <tr style=\"text-align: right;\">\n",
              "      <th></th>\n",
              "      <th>level_0</th>\n",
              "      <th>index</th>\n",
              "      <th>Date</th>\n",
              "      <th>Average KWH per Day</th>\n",
              "    </tr>\n",
              "  </thead>\n",
              "  <tbody>\n",
              "    <tr>\n",
              "      <th>0</th>\n",
              "      <td>0.0</td>\n",
              "      <td>0</td>\n",
              "      <td>2011-11-23</td>\n",
              "      <td>4.327500</td>\n",
              "    </tr>\n",
              "    <tr>\n",
              "      <th>1</th>\n",
              "      <td>1.0</td>\n",
              "      <td>1</td>\n",
              "      <td>2011-11-24</td>\n",
              "      <td>6.111750</td>\n",
              "    </tr>\n",
              "    <tr>\n",
              "      <th>2</th>\n",
              "      <td>2.0</td>\n",
              "      <td>2</td>\n",
              "      <td>2011-11-25</td>\n",
              "      <td>6.886333</td>\n",
              "    </tr>\n",
              "    <tr>\n",
              "      <th>3</th>\n",
              "      <td>3.0</td>\n",
              "      <td>3</td>\n",
              "      <td>2011-11-26</td>\n",
              "      <td>7.709500</td>\n",
              "    </tr>\n",
              "    <tr>\n",
              "      <th>4</th>\n",
              "      <td>4.0</td>\n",
              "      <td>4</td>\n",
              "      <td>2011-11-27</td>\n",
              "      <td>7.813500</td>\n",
              "    </tr>\n",
              "  </tbody>\n",
              "</table>\n",
              "</div>\n",
              "    <div class=\"colab-df-buttons\">\n",
              "\n",
              "  <div class=\"colab-df-container\">\n",
              "    <button class=\"colab-df-convert\" onclick=\"convertToInteractive('df-df8f68af-64b6-4044-b55f-63cf0d03e9f9')\"\n",
              "            title=\"Convert this dataframe to an interactive table.\"\n",
              "            style=\"display:none;\">\n",
              "\n",
              "  <svg xmlns=\"http://www.w3.org/2000/svg\" height=\"24px\" viewBox=\"0 -960 960 960\">\n",
              "    <path d=\"M120-120v-720h720v720H120Zm60-500h600v-160H180v160Zm220 220h160v-160H400v160Zm0 220h160v-160H400v160ZM180-400h160v-160H180v160Zm440 0h160v-160H620v160ZM180-180h160v-160H180v160Zm440 0h160v-160H620v160Z\"/>\n",
              "  </svg>\n",
              "    </button>\n",
              "\n",
              "  <style>\n",
              "    .colab-df-container {\n",
              "      display:flex;\n",
              "      gap: 12px;\n",
              "    }\n",
              "\n",
              "    .colab-df-convert {\n",
              "      background-color: #E8F0FE;\n",
              "      border: none;\n",
              "      border-radius: 50%;\n",
              "      cursor: pointer;\n",
              "      display: none;\n",
              "      fill: #1967D2;\n",
              "      height: 32px;\n",
              "      padding: 0 0 0 0;\n",
              "      width: 32px;\n",
              "    }\n",
              "\n",
              "    .colab-df-convert:hover {\n",
              "      background-color: #E2EBFA;\n",
              "      box-shadow: 0px 1px 2px rgba(60, 64, 67, 0.3), 0px 1px 3px 1px rgba(60, 64, 67, 0.15);\n",
              "      fill: #174EA6;\n",
              "    }\n",
              "\n",
              "    .colab-df-buttons div {\n",
              "      margin-bottom: 4px;\n",
              "    }\n",
              "\n",
              "    [theme=dark] .colab-df-convert {\n",
              "      background-color: #3B4455;\n",
              "      fill: #D2E3FC;\n",
              "    }\n",
              "\n",
              "    [theme=dark] .colab-df-convert:hover {\n",
              "      background-color: #434B5C;\n",
              "      box-shadow: 0px 1px 3px 1px rgba(0, 0, 0, 0.15);\n",
              "      filter: drop-shadow(0px 1px 2px rgba(0, 0, 0, 0.3));\n",
              "      fill: #FFFFFF;\n",
              "    }\n",
              "  </style>\n",
              "\n",
              "    <script>\n",
              "      const buttonEl =\n",
              "        document.querySelector('#df-df8f68af-64b6-4044-b55f-63cf0d03e9f9 button.colab-df-convert');\n",
              "      buttonEl.style.display =\n",
              "        google.colab.kernel.accessAllowed ? 'block' : 'none';\n",
              "\n",
              "      async function convertToInteractive(key) {\n",
              "        const element = document.querySelector('#df-df8f68af-64b6-4044-b55f-63cf0d03e9f9');\n",
              "        const dataTable =\n",
              "          await google.colab.kernel.invokeFunction('convertToInteractive',\n",
              "                                                    [key], {});\n",
              "        if (!dataTable) return;\n",
              "\n",
              "        const docLinkHtml = 'Like what you see? Visit the ' +\n",
              "          '<a target=\"_blank\" href=https://colab.research.google.com/notebooks/data_table.ipynb>data table notebook</a>'\n",
              "          + ' to learn more about interactive tables.';\n",
              "        element.innerHTML = '';\n",
              "        dataTable['output_type'] = 'display_data';\n",
              "        await google.colab.output.renderOutput(dataTable, element);\n",
              "        const docLink = document.createElement('div');\n",
              "        docLink.innerHTML = docLinkHtml;\n",
              "        element.appendChild(docLink);\n",
              "      }\n",
              "    </script>\n",
              "  </div>\n",
              "\n",
              "\n",
              "<div id=\"df-3b486aa9-d08d-48cd-bc88-ad4a170f61d4\">\n",
              "  <button class=\"colab-df-quickchart\" onclick=\"quickchart('df-3b486aa9-d08d-48cd-bc88-ad4a170f61d4')\"\n",
              "            title=\"Suggest charts\"\n",
              "            style=\"display:none;\">\n",
              "\n",
              "<svg xmlns=\"http://www.w3.org/2000/svg\" height=\"24px\"viewBox=\"0 0 24 24\"\n",
              "     width=\"24px\">\n",
              "    <g>\n",
              "        <path d=\"M19 3H5c-1.1 0-2 .9-2 2v14c0 1.1.9 2 2 2h14c1.1 0 2-.9 2-2V5c0-1.1-.9-2-2-2zM9 17H7v-7h2v7zm4 0h-2V7h2v10zm4 0h-2v-4h2v4z\"/>\n",
              "    </g>\n",
              "</svg>\n",
              "  </button>\n",
              "\n",
              "<style>\n",
              "  .colab-df-quickchart {\n",
              "      --bg-color: #E8F0FE;\n",
              "      --fill-color: #1967D2;\n",
              "      --hover-bg-color: #E2EBFA;\n",
              "      --hover-fill-color: #174EA6;\n",
              "      --disabled-fill-color: #AAA;\n",
              "      --disabled-bg-color: #DDD;\n",
              "  }\n",
              "\n",
              "  [theme=dark] .colab-df-quickchart {\n",
              "      --bg-color: #3B4455;\n",
              "      --fill-color: #D2E3FC;\n",
              "      --hover-bg-color: #434B5C;\n",
              "      --hover-fill-color: #FFFFFF;\n",
              "      --disabled-bg-color: #3B4455;\n",
              "      --disabled-fill-color: #666;\n",
              "  }\n",
              "\n",
              "  .colab-df-quickchart {\n",
              "    background-color: var(--bg-color);\n",
              "    border: none;\n",
              "    border-radius: 50%;\n",
              "    cursor: pointer;\n",
              "    display: none;\n",
              "    fill: var(--fill-color);\n",
              "    height: 32px;\n",
              "    padding: 0;\n",
              "    width: 32px;\n",
              "  }\n",
              "\n",
              "  .colab-df-quickchart:hover {\n",
              "    background-color: var(--hover-bg-color);\n",
              "    box-shadow: 0 1px 2px rgba(60, 64, 67, 0.3), 0 1px 3px 1px rgba(60, 64, 67, 0.15);\n",
              "    fill: var(--button-hover-fill-color);\n",
              "  }\n",
              "\n",
              "  .colab-df-quickchart-complete:disabled,\n",
              "  .colab-df-quickchart-complete:disabled:hover {\n",
              "    background-color: var(--disabled-bg-color);\n",
              "    fill: var(--disabled-fill-color);\n",
              "    box-shadow: none;\n",
              "  }\n",
              "\n",
              "  .colab-df-spinner {\n",
              "    border: 2px solid var(--fill-color);\n",
              "    border-color: transparent;\n",
              "    border-bottom-color: var(--fill-color);\n",
              "    animation:\n",
              "      spin 1s steps(1) infinite;\n",
              "  }\n",
              "\n",
              "  @keyframes spin {\n",
              "    0% {\n",
              "      border-color: transparent;\n",
              "      border-bottom-color: var(--fill-color);\n",
              "      border-left-color: var(--fill-color);\n",
              "    }\n",
              "    20% {\n",
              "      border-color: transparent;\n",
              "      border-left-color: var(--fill-color);\n",
              "      border-top-color: var(--fill-color);\n",
              "    }\n",
              "    30% {\n",
              "      border-color: transparent;\n",
              "      border-left-color: var(--fill-color);\n",
              "      border-top-color: var(--fill-color);\n",
              "      border-right-color: var(--fill-color);\n",
              "    }\n",
              "    40% {\n",
              "      border-color: transparent;\n",
              "      border-right-color: var(--fill-color);\n",
              "      border-top-color: var(--fill-color);\n",
              "    }\n",
              "    60% {\n",
              "      border-color: transparent;\n",
              "      border-right-color: var(--fill-color);\n",
              "    }\n",
              "    80% {\n",
              "      border-color: transparent;\n",
              "      border-right-color: var(--fill-color);\n",
              "      border-bottom-color: var(--fill-color);\n",
              "    }\n",
              "    90% {\n",
              "      border-color: transparent;\n",
              "      border-bottom-color: var(--fill-color);\n",
              "    }\n",
              "  }\n",
              "</style>\n",
              "\n",
              "  <script>\n",
              "    async function quickchart(key) {\n",
              "      const quickchartButtonEl =\n",
              "        document.querySelector('#' + key + ' button');\n",
              "      quickchartButtonEl.disabled = true;  // To prevent multiple clicks.\n",
              "      quickchartButtonEl.classList.add('colab-df-spinner');\n",
              "      try {\n",
              "        const charts = await google.colab.kernel.invokeFunction(\n",
              "            'suggestCharts', [key], {});\n",
              "      } catch (error) {\n",
              "        console.error('Error during call to suggestCharts:', error);\n",
              "      }\n",
              "      quickchartButtonEl.classList.remove('colab-df-spinner');\n",
              "      quickchartButtonEl.classList.add('colab-df-quickchart-complete');\n",
              "    }\n",
              "    (() => {\n",
              "      let quickchartButtonEl =\n",
              "        document.querySelector('#df-3b486aa9-d08d-48cd-bc88-ad4a170f61d4 button');\n",
              "      quickchartButtonEl.style.display =\n",
              "        google.colab.kernel.accessAllowed ? 'block' : 'none';\n",
              "    })();\n",
              "  </script>\n",
              "</div>\n",
              "\n",
              "    </div>\n",
              "  </div>\n"
            ],
            "application/vnd.google.colaboratory.intrinsic+json": {
              "type": "dataframe",
              "variable_name": "merged_df1",
              "summary": "{\n  \"name\": \"merged_df1\",\n  \"rows\": 3291,\n  \"fields\": [\n    {\n      \"column\": \"level_0\",\n      \"properties\": {\n        \"dtype\": \"number\",\n        \"std\": 239.4559806450168,\n        \"min\": 0.0,\n        \"max\": 828.0,\n        \"num_unique_values\": 829,\n        \"samples\": [\n          608.0,\n          457.0,\n          290.0\n        ],\n        \"semantic_type\": \"\",\n        \"description\": \"\"\n      }\n    },\n    {\n      \"column\": \"index\",\n      \"properties\": {\n        \"dtype\": \"number\",\n        \"std\": 237,\n        \"min\": 0,\n        \"max\": 828,\n        \"num_unique_values\": 829,\n        \"samples\": [\n          608,\n          457,\n          290\n        ],\n        \"semantic_type\": \"\",\n        \"description\": \"\"\n      }\n    },\n    {\n      \"column\": \"Date\",\n      \"properties\": {\n        \"dtype\": \"object\",\n        \"num_unique_values\": 829,\n        \"samples\": [\n          \"2013-07-23\",\n          \"2013-02-22\",\n          \"2012-09-08\"\n        ],\n        \"semantic_type\": \"\",\n        \"description\": \"\"\n      }\n    },\n    {\n      \"column\": \"Average KWH per Day\",\n      \"properties\": {\n        \"dtype\": \"number\",\n        \"std\": 1.9860921375149094,\n        \"min\": 0.3569800415691672,\n        \"max\": 17.056263163157894,\n        \"num_unique_values\": 3291,\n        \"samples\": [\n          8.350295365671641,\n          10.126162570182396,\n          8.746726894496366\n        ],\n        \"semantic_type\": \"\",\n        \"description\": \"\"\n      }\n    }\n  ]\n}"
            }
          },
          "metadata": {},
          "execution_count": 28
        }
      ]
    },
    {
      "cell_type": "code",
      "source": [
        "# Convert the 'DateTime' column to datetime format if it is not already\n",
        "merged_df1['Date'] = pd.to_datetime(merged_df1['Date'])\n",
        "\n",
        "# Step 6: Group by Date and calculate the mean of 'KWH/hh (per half hour)'\n",
        "daily_data = merged_df1.groupby(merged_df1['Date'].dt.date)['Average KWH per Day'].mean().reset_index()\n",
        "\n",
        "# Rename the columns for clarity\n",
        "daily_data.columns = ['Date', 'Average KWH']\n",
        "\n",
        "# Verify the daily_data DataFrame\n",
        "print(f\"Daily data shape: {daily_data.shape}\")\n",
        "print(daily_data.head())\n",
        "\n",
        "# Save the daily_data DataFrame to a new CSV file (optional)\n",
        "daily_csv_file_path = '/content/drive/MyDrive/LCL-Final-Average-Merged-DailyData.csv'\n",
        "daily_data.to_csv(daily_csv_file_path, index=False)\n",
        "\n",
        "print(f\"Daily data saved to: {daily_csv_file_path}\")\n"
      ],
      "metadata": {
        "colab": {
          "base_uri": "https://localhost:8080/"
        },
        "id": "vxQpT8VIXDdb",
        "outputId": "ce3492cf-7a8e-4ee3-f3ae-6bbd2271ad97"
      },
      "execution_count": null,
      "outputs": [
        {
          "output_type": "stream",
          "name": "stdout",
          "text": [
            "Daily data shape: (829, 2)\n",
            "         Date  Average KWH\n",
            "0  2011-11-23     5.878750\n",
            "1  2011-11-24     7.555042\n",
            "2  2011-11-25     8.494609\n",
            "3  2011-11-26     9.207879\n",
            "4  2011-11-27     9.592493\n",
            "Daily data saved to: /content/drive/MyDrive/LCL-Final-Average-Merged-DailyData.csv\n"
          ]
        }
      ]
    },
    {
      "cell_type": "code",
      "source": [
        "print(\"Energy data date range:\", merged_df1['Date'].min(), merged_df1['Date'].max())"
      ],
      "metadata": {
        "colab": {
          "base_uri": "https://localhost:8080/"
        },
        "id": "uh12MbssFfiK",
        "outputId": "a0dce6f9-5e33-4c12-a84f-d061de0926db"
      },
      "execution_count": null,
      "outputs": [
        {
          "output_type": "stream",
          "name": "stdout",
          "text": [
            "Energy data date range: 2011-11-23 00:00:00 2014-02-28 00:00:00\n"
          ]
        }
      ]
    },
    {
      "cell_type": "code",
      "source": [
        "print(\"Energy data consumption range:\", merged_df1['Average KWH per Day'].min(), merged_df1['Average KWH per Day'].max())"
      ],
      "metadata": {
        "colab": {
          "base_uri": "https://localhost:8080/"
        },
        "id": "StjV9MmqFvX4",
        "outputId": "dbb100de-76fc-4b3c-e2b3-753cc35d6424"
      },
      "execution_count": null,
      "outputs": [
        {
          "output_type": "stream",
          "name": "stdout",
          "text": [
            "Energy data consumption range: 0.3569800415691672 17.056263163157894\n"
          ]
        }
      ]
    },
    {
      "cell_type": "code",
      "source": [],
      "metadata": {
        "id": "I6cN76_6FvU-"
      },
      "execution_count": null,
      "outputs": []
    },
    {
      "cell_type": "code",
      "source": [],
      "metadata": {
        "id": "EWw8uUX0DHX6"
      },
      "execution_count": null,
      "outputs": []
    },
    {
      "cell_type": "code",
      "source": [],
      "metadata": {
        "id": "5u49EHyODHWs"
      },
      "execution_count": null,
      "outputs": []
    },
    {
      "cell_type": "code",
      "source": [],
      "metadata": {
        "id": "fP6PErPCDHUx"
      },
      "execution_count": null,
      "outputs": []
    },
    {
      "cell_type": "code",
      "source": [],
      "metadata": {
        "id": "swFpMqY7DHSE"
      },
      "execution_count": null,
      "outputs": []
    },
    {
      "cell_type": "code",
      "source": [],
      "metadata": {
        "id": "J8Hx6AamDHQ_"
      },
      "execution_count": null,
      "outputs": []
    },
    {
      "cell_type": "code",
      "source": [],
      "metadata": {
        "id": "Dk1V05KODHPs"
      },
      "execution_count": null,
      "outputs": []
    },
    {
      "cell_type": "code",
      "source": [],
      "metadata": {
        "id": "QR9MtCv8Cro5"
      },
      "execution_count": null,
      "outputs": []
    }
  ],
  "metadata": {
    "colab": {
      "provenance": [],
      "gpuType": "T4",
      "authorship_tag": "ABX9TyOovmNh0nuOgOTm+nkTtAaj",
      "include_colab_link": true
    },
    "kernelspec": {
      "display_name": "Python 3",
      "name": "python3"
    },
    "language_info": {
      "name": "python"
    },
    "accelerator": "GPU"
  },
  "nbformat": 4,
  "nbformat_minor": 0
}